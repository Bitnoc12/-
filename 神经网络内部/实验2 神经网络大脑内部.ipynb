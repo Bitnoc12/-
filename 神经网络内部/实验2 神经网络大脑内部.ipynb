{
 "cells": [
  {
   "cell_type": "code",
   "execution_count": 1,
   "id": "e697b93a",
   "metadata": {},
   "outputs": [],
   "source": [
    "import numpy\n",
    "import scipy.special\n",
    "import matplotlib.pyplot\n",
    "%matplotlib inline"
   ]
  },
  {
   "cell_type": "code",
   "execution_count": 2,
   "id": "1b9ac069",
   "metadata": {},
   "outputs": [],
   "source": [
    " \n",
    "class neuralNetwork:\n",
    " \n",
    "    def __init__(self, inputnodes, hiddennodes, outputnodes, learningrate):\n",
    "        self.inodes = inputnodes\n",
    "        self.hnodes = hiddennodes\n",
    "        self.onodes = outputnodes\n",
    "\n",
    "        self.wih = numpy.random.normal(\n",
    "            0.0, pow(self.inodes, -0.5), (self.hnodes, self.inodes)\n",
    "        )\n",
    "        self.who = numpy.random.normal(\n",
    "            0.0, pow(self.inodes, -0.5), (self.onodes, self.hnodes)\n",
    "        )\n",
    "\n",
    "        self.lr = learningrate\n",
    "\n",
    "        self.activation_function = lambda x: scipy.special.expit(x)\n",
    "\n",
    "        self.inverse_activation_function = lambda x: scipy.special.logit(x)\n",
    "\n",
    "        pass\n",
    "\n",
    "    def train(self, inputs_list, targets_list):\n",
    "        inputs = numpy.array(inputs_list, ndmin=2).T\n",
    "        targets = numpy.array(targets_list, ndmin=2).T\n",
    "\n",
    "        hidden_inputs = numpy.dot(self.wih, inputs)\n",
    "        hidden_outputs = self.activation_function(hidden_inputs)\n",
    "\n",
    "        final_inputs = numpy.dot(self.who, hidden_outputs)\n",
    "        final_outputs = self.activation_function(final_inputs)\n",
    "\n",
    "        output_errors = targets - final_outputs\n",
    "        hidden_errors = numpy.dot(self.who.T, output_errors)\n",
    "\n",
    "        self.who += self.lr * numpy.dot(\n",
    "            (output_errors * final_outputs * (1.0 - final_outputs)),\n",
    "            numpy.transpose(hidden_outputs),\n",
    "        )\n",
    "        self.wih += self.lr * numpy.dot(\n",
    "            (hidden_errors * hidden_outputs * (1.0 - hidden_outputs)),\n",
    "            numpy.transpose(inputs),\n",
    "        )\n",
    "\n",
    "        # print(\"inputs形状:\", inputs.shape)\n",
    "        # print(\"targets形状:\", targets.shape)\n",
    "        # print(\"self.wih形状:\", self.wih.shape)\n",
    "        # print(\"self.who形状:\", self.who.shape)\n",
    "\n",
    "        pass\n",
    "\n",
    "    def query(self, inputs_list):\n",
    "        inputs = numpy.array(inputs_list, ndmin=2).T\n",
    "\n",
    "        # print(\"inputs形状:\", inputs.shape)\n",
    "        # print(\"self.wih形状:\", self.wih.shape)\n",
    "\n",
    "        hidden_inputs = numpy.dot(self.wih, inputs)\n",
    "        hidden_outputs = self.activation_function(hidden_inputs)\n",
    "\n",
    "        final_inputs = numpy.dot(self.who, hidden_outputs)\n",
    "        final_outputs = self.activation_function(final_inputs)\n",
    "\n",
    "        return final_outputs\n",
    "\n",
    "    def back_query(self, targets_list):\n",
    "        final_outputs = numpy.array(targets_list, ndmin=2).T\n",
    "        final_inputs = self.inverse_activation_function(final_outputs)\n",
    "\n",
    "        hidden_outputs = numpy.dot(self.who.T, final_inputs)\n",
    "\n",
    "        hidden_outputs -= numpy.min(hidden_outputs)\n",
    "        hidden_outputs /= numpy.max(hidden_outputs)\n",
    "        hidden_outputs *= 0.98\n",
    "        hidden_outputs += 0.01\n",
    "\n",
    "        hidden_inputs = self.inverse_activation_function(hidden_outputs)\n",
    "\n",
    "        inputs = numpy.dot(self.wih.T, hidden_inputs)\n",
    "\n",
    "        inputs -= numpy.min(inputs)\n",
    "        inputs /= numpy.max(inputs)\n",
    "        inputs *= 0.98\n",
    "        inputs += 0.01\n",
    "\n",
    "        return inputs"
   ]
  },
  {
   "cell_type": "code",
   "execution_count": 3,
   "id": "6a676520",
   "metadata": {},
   "outputs": [],
   "source": [
    "input_nodes = 784\n",
    "hidden_nodes = 230\n",
    "output_nodes = 10\n",
    "\n",
    "learning_rate = 0.2\n",
    "\n",
    "n = neuralNetwork(input_nodes, hidden_nodes, output_nodes, learning_rate)\n"
   ]
  },
  {
   "cell_type": "code",
   "execution_count": 4,
   "id": "99ab4655",
   "metadata": {},
   "outputs": [],
   "source": [
    "training_data_file = open(\"C:/MNIST_csv_all/mnist_train.csv\", \"r\")\n",
    "training_data_list = training_data_file.readlines()\n",
    "training_data_file.close()"
   ]
  },
  {
   "cell_type": "code",
   "execution_count": 5,
   "id": "d5d4d418",
   "metadata": {},
   "outputs": [],
   "source": [
    "\n",
    "epochs = 8\n",
    "\n",
    "for e in range(epochs):\n",
    "    for record in training_data_list:\n",
    "        all_values = record.split(\",\")\n",
    "\n",
    "        inputs = (numpy.asfarray(all_values[1:]) / 255.0 * 0.99) + 0.01\n",
    "\n",
    "        targets = numpy.zeros(output_nodes) + 0.01\n",
    "\n",
    "        targets[int(all_values[0])] = 0.99\n",
    "        n.train(inputs, targets)\n",
    "        pass\n",
    "    pass"
   ]
  },
  {
   "cell_type": "code",
   "execution_count": 6,
   "id": "017d086d",
   "metadata": {},
   "outputs": [],
   "source": [
    "test_data_file = open(\"C:/MNIST_csv_all/mnist_test.csv\", \"r\")\n",
    "test_data_list = test_data_file.readlines()\n",
    "test_data_file.close()"
   ]
  },
  {
   "cell_type": "code",
   "execution_count": 7,
   "id": "24b1943a",
   "metadata": {},
   "outputs": [],
   "source": [
    "scorecard = []\n",
    "\n",
    "for record in test_data_list:\n",
    "    all_values = record.split(\",\")\n",
    "\n",
    "    correct_label = int(all_values[0])\n",
    "\n",
    "    inputs = (numpy.asfarray(all_values[1:]) / 255.0 * 0.99) + 0.01\n",
    "\n",
    "    outputs = n.query(inputs)\n",
    "\n",
    "    label = numpy.argmax(outputs)\n",
    "\n",
    "    if label == correct_label:\n",
    "        scorecard.append(1)\n",
    "    else:\n",
    "        scorecard.append(0)\n",
    "        pass\n",
    "    pass\n"
   ]
  },
  {
   "cell_type": "code",
   "execution_count": 11,
   "id": "b961dfe1",
   "metadata": {},
   "outputs": [
    {
     "name": "stdout",
     "output_type": "stream",
     "text": [
      "performance= 0.9688\n"
     ]
    }
   ],
   "source": [
    "scorecard_array = numpy.asarray(scorecard)\n",
    "print(\"performance=\", scorecard_array.sum() / scorecard_array.size)\n"
   ]
  },
  {
   "cell_type": "code",
   "execution_count": 12,
   "id": "5f2433f3",
   "metadata": {},
   "outputs": [
    {
     "name": "stdout",
     "output_type": "stream",
     "text": [
      "[0.99 0.01 0.01 0.01 0.01 0.01 0.01 0.01 0.01 0.01]\n"
     ]
    },
    {
     "data": {
      "text/plain": [
       "<matplotlib.image.AxesImage at 0x141fc048070>"
      ]
     },
     "execution_count": 12,
     "metadata": {},
     "output_type": "execute_result"
    },
    {
     "data": {
      "image/png": "[encoded data removed]",
      "text/plain": [
       "<Figure size 432x288 with 1 Axes>"
      ]
     },
     "metadata": {
      "needs_background": "light"
     },
     "output_type": "display_data"
    }
   ],
   "source": [
    "label = 0\n",
    "\n",
    "targets = numpy.zeros(output_nodes) + 0.01\n",
    "\n",
    "targets[label] = 0.99\n",
    "print(targets)\n",
    "\n",
    "image_data = n.back_query(targets)\n",
    "\n",
    "matplotlib.pyplot.imshow(image_data.reshape(28, 28), cmap = 'Greys', interpolation='None')"
   ]
  },
  {
   "cell_type": "code",
   "execution_count": 13,
   "id": "7211a93c",
   "metadata": {},
   "outputs": [
    {
     "name": "stdout",
     "output_type": "stream",
     "text": [
      "[0.01 0.99 0.01 0.01 0.01 0.01 0.01 0.01 0.01 0.01]\n"
     ]
    },
    {
     "data": {
      "text/plain": [
       "<matplotlib.image.AxesImage at 0x141fd10fac0>"
      ]
     },
     "execution_count": 13,
     "metadata": {},
     "output_type": "execute_result"
    },
    {
     "data": {
      "image/png": "[encoded data removed]",
      "text/plain": [
       "<Figure size 432x288 with 1 Axes>"
      ]
     },
     "metadata": {
      "needs_background": "light"
     },
     "output_type": "display_data"
    }
   ],
   "source": [
    "label = 1\n",
    "\n",
    "targets = numpy.zeros(output_nodes) + 0.01\n",
    "\n",
    "targets[label] = 0.99\n",
    "print(targets)\n",
    "\n",
    "image_data = n.back_query(targets)\n",
    "\n",
    "matplotlib.pyplot.imshow(image_data.reshape(28, 28), cmap = 'Greys', interpolation='None')"
   ]
  },
  {
   "cell_type": "code",
   "execution_count": 14,
   "id": "8d9397c7",
   "metadata": {},
   "outputs": [
    {
     "name": "stdout",
     "output_type": "stream",
     "text": [
      "[0.01 0.01 0.99 0.01 0.01 0.01 0.01 0.01 0.01 0.01]\n"
     ]
    },
    {
     "data": {
      "text/plain": [
       "<matplotlib.image.AxesImage at 0x141fd17f760>"
      ]
     },
     "execution_count": 14,
     "metadata": {},
     "output_type": "execute_result"
    },
    {
     "data": {
      "image/png": "[encoded data removed]",
      "text/plain": [
       "<Figure size 432x288 with 1 Axes>"
      ]
     },
     "metadata": {
      "needs_background": "light"
     },
     "output_type": "display_data"
    }
   ],
   "source": [
    "label = 2\n",
    "\n",
    "targets = numpy.zeros(output_nodes) + 0.01\n",
    "\n",
    "targets[label] = 0.99\n",
    "print(targets)\n",
    "\n",
    "image_data = n.back_query(targets)\n",
    "\n",
    "matplotlib.pyplot.imshow(image_data.reshape(28, 28), cmap = 'Greys', interpolation='None')"
   ]
  },
  {
   "cell_type": "code",
   "execution_count": 15,
   "id": "99e967c1",
   "metadata": {},
   "outputs": [
    {
     "name": "stdout",
     "output_type": "stream",
     "text": [
      "[0.01 0.01 0.01 0.99 0.01 0.01 0.01 0.01 0.01 0.01]\n"
     ]
    },
    {
     "data": {
      "text/plain": [
       "<matplotlib.image.AxesImage at 0x141fd1e1d00>"
      ]
     },
     "execution_count": 15,
     "metadata": {},
     "output_type": "execute_result"
    },
    {
     "data": {
      "image/png": "[encoded data removed]",
      "text/plain": [
       "<Figure size 432x288 with 1 Axes>"
      ]
     },
     "metadata": {
      "needs_background": "light"
     },
     "output_type": "display_data"
    }
   ],
   "source": [
    "label = 3\n",
    "\n",
    "targets = numpy.zeros(output_nodes) + 0.01\n",
    "\n",
    "targets[label] = 0.99\n",
    "print(targets)\n",
    "\n",
    "image_data = n.back_query(targets)\n",
    "\n",
    "matplotlib.pyplot.imshow(image_data.reshape(28, 28), cmap = 'Greys', interpolation='None')"
   ]
  },
  {
   "cell_type": "code",
   "execution_count": 16,
   "id": "c792a003",
   "metadata": {},
   "outputs": [
    {
     "name": "stdout",
     "output_type": "stream",
     "text": [
      "[0.01 0.01 0.01 0.01 0.99 0.01 0.01 0.01 0.01 0.01]\n"
     ]
    },
    {
     "data": {
      "text/plain": [
       "<matplotlib.image.AxesImage at 0x141fd245f40>"
      ]
     },
     "execution_count": 16,
     "metadata": {},
     "output_type": "execute_result"
    },
    {
     "data": {
      "image/png": "[encoded data removed]",
      "text/plain": [
       "<Figure size 432x288 with 1 Axes>"
      ]
     },
     "metadata": {
      "needs_background": "light"
     },
     "output_type": "display_data"
    }
   ],
   "source": [
    "label = 4\n",
    "\n",
    "targets = numpy.zeros(output_nodes) + 0.01\n",
    "\n",
    "targets[label] = 0.99\n",
    "print(targets)\n",
    "\n",
    "image_data = n.back_query(targets)\n",
    "\n",
    "matplotlib.pyplot.imshow(image_data.reshape(28, 28), cmap = 'Greys', interpolation='None')"
   ]
  },
  {
   "cell_type": "code",
   "execution_count": 17,
   "id": "f2804648",
   "metadata": {},
   "outputs": [
    {
     "name": "stdout",
     "output_type": "stream",
     "text": [
      "[0.01 0.01 0.01 0.01 0.01 0.99 0.01 0.01 0.01 0.01]\n"
     ]
    },
    {
     "data": {
      "text/plain": [
       "<matplotlib.image.AxesImage at 0x141fd2af460>"
      ]
     },
     "execution_count": 17,
     "metadata": {},
     "output_type": "execute_result"
    },
    {
     "data": {
      "image/png": "[encoded data removed]",
      "text/plain": [
       "<Figure size 432x288 with 1 Axes>"
      ]
     },
     "metadata": {
      "needs_background": "light"
     },
     "output_type": "display_data"
    }
   ],
   "source": [
    "label = 5\n",
    "\n",
    "targets = numpy.zeros(output_nodes) + 0.01\n",
    "\n",
    "targets[label] = 0.99\n",
    "print(targets)\n",
    "\n",
    "image_data = n.back_query(targets)\n",
    "\n",
    "matplotlib.pyplot.imshow(image_data.reshape(28, 28), cmap = 'Greys', interpolation='None')"
   ]
  },
  {
   "cell_type": "code",
   "execution_count": 18,
   "id": "5c0ae629",
   "metadata": {},
   "outputs": [
    {
     "name": "stdout",
     "output_type": "stream",
     "text": [
      "[0.01 0.01 0.01 0.01 0.01 0.01 0.99 0.01 0.01 0.01]\n"
     ]
    },
    {
     "data": {
      "text/plain": [
       "<matplotlib.image.AxesImage at 0x141fd313850>"
      ]
     },
     "execution_count": 18,
     "metadata": {},
     "output_type": "execute_result"
    },
    {
     "data": {
      "image/png": "[encoded data removed]",
      "text/plain": [
       "<Figure size 432x288 with 1 Axes>"
      ]
     },
     "metadata": {
      "needs_background": "light"
     },
     "output_type": "display_data"
    }
   ],
   "source": [
    "label = 6\n",
    "\n",
    "targets = numpy.zeros(output_nodes) + 0.01\n",
    "\n",
    "targets[label] = 0.99\n",
    "print(targets)\n",
    "\n",
    "image_data = n.back_query(targets)\n",
    "\n",
    "matplotlib.pyplot.imshow(image_data.reshape(28, 28), cmap = 'Greys', interpolation='None')"
   ]
  },
  {
   "cell_type": "code",
   "execution_count": 19,
   "id": "dfe0ed4f",
   "metadata": {},
   "outputs": [
    {
     "name": "stdout",
     "output_type": "stream",
     "text": [
      "[0.01 0.01 0.01 0.01 0.01 0.01 0.01 0.99 0.01 0.01]\n"
     ]
    },
    {
     "data": {
      "text/plain": [
       "<matplotlib.image.AxesImage at 0x141fd374a60>"
      ]
     },
     "execution_count": 19,
     "metadata": {},
     "output_type": "execute_result"
    },
    {
     "data": {
      "image/png": "[encoded data removed]",
      "text/plain": [
       "<Figure size 432x288 with 1 Axes>"
      ]
     },
     "metadata": {
      "needs_background": "light"
     },
     "output_type": "display_data"
    }
   ],
   "source": [
    "label = 7\n",
    "\n",
    "targets = numpy.zeros(output_nodes) + 0.01\n",
    "\n",
    "targets[label] = 0.99\n",
    "print(targets)\n",
    "\n",
    "image_data = n.back_query(targets)\n",
    "\n",
    "matplotlib.pyplot.imshow(image_data.reshape(28, 28), cmap = 'Greys', interpolation='None')"
   ]
  },
  {
   "cell_type": "code",
   "execution_count": 20,
   "id": "c74c587a",
   "metadata": {},
   "outputs": [
    {
     "name": "stdout",
     "output_type": "stream",
     "text": [
      "[0.01 0.01 0.01 0.01 0.01 0.01 0.01 0.01 0.99 0.01]\n"
     ]
    },
    {
     "data": {
      "text/plain": [
       "<matplotlib.image.AxesImage at 0x141fd3d9f40>"
      ]
     },
     "execution_count": 20,
     "metadata": {},
     "output_type": "execute_result"
    },
    {
     "data": {
      "image/png": "[encoded data removed]",
      "text/plain": [
       "<Figure size 432x288 with 1 Axes>"
      ]
     },
     "metadata": {
      "needs_background": "light"
     },
     "output_type": "display_data"
    }
   ],
   "source": [
    "label = 8\n",
    "\n",
    "targets = numpy.zeros(output_nodes) + 0.01\n",
    "\n",
    "targets[label] = 0.99\n",
    "print(targets)\n",
    "\n",
    "image_data = n.back_query(targets)\n",
    "\n",
    "matplotlib.pyplot.imshow(image_data.reshape(28, 28), cmap = 'Greys', interpolation='None')"
   ]
  },
  {
   "cell_type": "code",
   "execution_count": 21,
   "id": "3b3b9fe9",
   "metadata": {},
   "outputs": [
    {
     "name": "stdout",
     "output_type": "stream",
     "text": [
      "[0.01 0.01 0.01 0.01 0.01 0.01 0.01 0.01 0.01 0.99]\n"
     ]
    },
    {
     "data": {
      "text/plain": [
       "<matplotlib.image.AxesImage at 0x141fd439fa0>"
      ]
     },
     "execution_count": 21,
     "metadata": {},
     "output_type": "execute_result"
    },
    {
     "data": {
      "image/png": "[encoded data removed]",
      "text/plain": [
       "<Figure size 432x288 with 1 Axes>"
      ]
     },
     "metadata": {
      "needs_background": "light"
     },
     "output_type": "display_data"
    }
   ],
   "source": [
    "label = 9\n",
    "\n",
    "targets = numpy.zeros(output_nodes) + 0.01\n",
    "\n",
    "targets[label] = 0.99\n",
    "print(targets)\n",
    "\n",
    "image_data = n.back_query(targets)\n",
    "\n",
    "matplotlib.pyplot.imshow(image_data.reshape(28, 28), cmap = 'Greys', interpolation='None')"
   ]
  },
  {
   "cell_type": "code",
   "execution_count": null,
   "id": "442173ea",
   "metadata": {},
   "outputs": [],
   "source": []
  }
 ],
 "metadata": {
  "kernelspec": {
   "display_name": "Python 3 (ipykernel)",
   "language": "python",
   "name": "python3"
  },
  "language_info": {
   "codemirror_mode": {
    "name": "ipython",
    "version": 3
   },
   "file_extension": ".py",
   "mimetype": "text/x-python",
   "name": "python",
   "nbconvert_exporter": "python",
   "pygments_lexer": "ipython3",
   "version": "3.9.7"
  }
 },
 "nbformat": 4,
 "nbformat_minor": 5
}
