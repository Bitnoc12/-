{
 "cells": [
  {
   "cell_type": "code",
   "execution_count": 1,
   "id": "3c82cbc4",
   "metadata": {},
   "outputs": [],
   "source": [
    "import numpy\n",
    "import scipy.special\n",
    "import matplotlib.pyplot\n",
    "%matplotlib inline"
   ]
  },
  {
   "cell_type": "code",
   "execution_count": 2,
   "id": "b58f527d",
   "metadata": {},
   "outputs": [],
   "source": [
    "import imageio"
   ]
  },
  {
   "cell_type": "code",
   "execution_count": 3,
   "id": "d8d1c29b",
   "metadata": {},
   "outputs": [],
   "source": [
    "class neuralNetwork:\n",
    "    def __init__(self, inputnodes, hiddennodes, outputnodes, learningrate):\n",
    "        self.inodes = inputnodes\n",
    "        self.hnodes = hiddennodes\n",
    "        self.onodes = outputnodes\n",
    "\n",
    "        self.wih = numpy.random.normal(\n",
    "            0.0, pow(self.inodes, -0.5), (self.hnodes, self.inodes)\n",
    "        )\n",
    "        self.who = numpy.random.normal(\n",
    "            0.0, pow(self.inodes, -0.5), (self.onodes, self.hnodes)\n",
    "        )\n",
    "\n",
    "        self.lr = learningrate\n",
    "\n",
    "        self.activation_function = lambda x: scipy.special.expit(x)\n",
    "\n",
    "        pass\n",
    "\n",
    "    def train(self, inputs_list, targets_list):\n",
    "        inputs = numpy.array(inputs_list, ndmin=2).T\n",
    "        targets = numpy.array(targets_list, ndmin=2).T\n",
    "\n",
    "        hidden_inputs = numpy.dot(self.wih, inputs)\n",
    "        hidden_outputs = self.activation_function(hidden_inputs)\n",
    "\n",
    "        final_inputs = numpy.dot(self.who, hidden_outputs)\n",
    "        final_outputs = self.activation_function(final_inputs)\n",
    "\n",
    "        output_errors = targets - final_outputs\n",
    "        hidden_errors = numpy.dot(self.who.T, output_errors)\n",
    "\n",
    "        self.who += self.lr * numpy.dot(\n",
    "            (output_errors * final_outputs * (1.0 - final_outputs)),\n",
    "            numpy.transpose(hidden_outputs),\n",
    "        )\n",
    "        self.wih += self.lr * numpy.dot(\n",
    "            (hidden_errors * hidden_outputs * (1.0 - hidden_outputs)),\n",
    "            numpy.transpose(inputs),\n",
    "        )\n",
    "\n",
    "        # print(\"inputs形状:\", inputs.shape)\n",
    "        # print(\"targets形状:\", targets.shape)\n",
    "        # print(\"self.wih形状:\", self.wih.shape)\n",
    "        # print(\"self.who形状:\", self.who.shape)\n",
    "\n",
    "        pass\n",
    "\n",
    "    def query(self, inputs_list):\n",
    "        inputs = numpy.array(inputs_list, ndmin=2).T\n",
    "\n",
    "        # print(\"inputs形状:\", inputs.shape)\n",
    "        # print(\"self.wih形状:\", self.wih.shape)\n",
    "\n",
    "        hidden_inputs = numpy.dot(self.wih, inputs)\n",
    "        hidden_outputs = self.activation_function(hidden_inputs)\n",
    "\n",
    "        final_inputs = numpy.dot(self.who, hidden_outputs)\n",
    "        final_outputs = self.activation_function(final_inputs)\n",
    "\n",
    "        return final_outputs\n",
    "\n",
    "    pass\n"
   ]
  },
  {
   "cell_type": "code",
   "execution_count": 4,
   "id": "e264f74d",
   "metadata": {},
   "outputs": [],
   "source": [
    "input_nodes = 784\n",
    "hidden_nodes = 230\n",
    "output_nodes = 10\n",
    "\n",
    "learning_rate = 0.2\n",
    "\n",
    "n = neuralNetwork(input_nodes, hidden_nodes, output_nodes, learning_rate)\n"
   ]
  },
  {
   "cell_type": "code",
   "execution_count": 5,
   "id": "d99f516c",
   "metadata": {},
   "outputs": [],
   "source": [
    "training_data_file = open(\"C:/MNIST_csv_all/mnist_train.csv\", \"r\")\n",
    "training_data_list = training_data_file.readlines()\n",
    "training_data_file.close()"
   ]
  },
  {
   "cell_type": "code",
   "execution_count": 7,
   "id": "c9e7d591",
   "metadata": {},
   "outputs": [
    {
     "ename": "KeyboardInterrupt",
     "evalue": "",
     "output_type": "error",
     "traceback": [
      "\u001b[1;31m---------------------------------------------------------------------------\u001b[0m",
      "\u001b[1;31mKeyboardInterrupt\u001b[0m                         Traceback (most recent call last)",
      "\u001b[1;32mC:\\Users\\ALVINA~1\\AppData\\Local\\Temp/ipykernel_32300/4209222755.py\u001b[0m in \u001b[0;36m<module>\u001b[1;34m\u001b[0m\n\u001b[0;32m     10\u001b[0m \u001b[1;33m\u001b[0m\u001b[0m\n\u001b[0;32m     11\u001b[0m         \u001b[0mtargets\u001b[0m\u001b[1;33m[\u001b[0m\u001b[0mint\u001b[0m\u001b[1;33m(\u001b[0m\u001b[0mall_values\u001b[0m\u001b[1;33m[\u001b[0m\u001b[1;36m0\u001b[0m\u001b[1;33m]\u001b[0m\u001b[1;33m)\u001b[0m\u001b[1;33m]\u001b[0m \u001b[1;33m=\u001b[0m \u001b[1;36m0.99\u001b[0m\u001b[1;33m\u001b[0m\u001b[1;33m\u001b[0m\u001b[0m\n\u001b[1;32m---> 12\u001b[1;33m         \u001b[0mn\u001b[0m\u001b[1;33m.\u001b[0m\u001b[0mtrain\u001b[0m\u001b[1;33m(\u001b[0m\u001b[0minputs\u001b[0m\u001b[1;33m,\u001b[0m \u001b[0mtargets\u001b[0m\u001b[1;33m)\u001b[0m\u001b[1;33m\u001b[0m\u001b[1;33m\u001b[0m\u001b[0m\n\u001b[0m\u001b[0;32m     13\u001b[0m         \u001b[1;32mpass\u001b[0m\u001b[1;33m\u001b[0m\u001b[1;33m\u001b[0m\u001b[0m\n\u001b[0;32m     14\u001b[0m     \u001b[1;32mpass\u001b[0m\u001b[1;33m\u001b[0m\u001b[1;33m\u001b[0m\u001b[0m\n",
      "\u001b[1;32mC:\\Users\\ALVINA~1\\AppData\\Local\\Temp/ipykernel_32300/3670390000.py\u001b[0m in \u001b[0;36mtrain\u001b[1;34m(self, inputs_list, targets_list)\u001b[0m\n\u001b[0;32m     22\u001b[0m         \u001b[0mtargets\u001b[0m \u001b[1;33m=\u001b[0m \u001b[0mnumpy\u001b[0m\u001b[1;33m.\u001b[0m\u001b[0marray\u001b[0m\u001b[1;33m(\u001b[0m\u001b[0mtargets_list\u001b[0m\u001b[1;33m,\u001b[0m \u001b[0mndmin\u001b[0m\u001b[1;33m=\u001b[0m\u001b[1;36m2\u001b[0m\u001b[1;33m)\u001b[0m\u001b[1;33m.\u001b[0m\u001b[0mT\u001b[0m\u001b[1;33m\u001b[0m\u001b[1;33m\u001b[0m\u001b[0m\n\u001b[0;32m     23\u001b[0m \u001b[1;33m\u001b[0m\u001b[0m\n\u001b[1;32m---> 24\u001b[1;33m         \u001b[0mhidden_inputs\u001b[0m \u001b[1;33m=\u001b[0m \u001b[0mnumpy\u001b[0m\u001b[1;33m.\u001b[0m\u001b[0mdot\u001b[0m\u001b[1;33m(\u001b[0m\u001b[0mself\u001b[0m\u001b[1;33m.\u001b[0m\u001b[0mwih\u001b[0m\u001b[1;33m,\u001b[0m \u001b[0minputs\u001b[0m\u001b[1;33m)\u001b[0m\u001b[1;33m\u001b[0m\u001b[1;33m\u001b[0m\u001b[0m\n\u001b[0m\u001b[0;32m     25\u001b[0m         \u001b[0mhidden_outputs\u001b[0m \u001b[1;33m=\u001b[0m \u001b[0mself\u001b[0m\u001b[1;33m.\u001b[0m\u001b[0mactivation_function\u001b[0m\u001b[1;33m(\u001b[0m\u001b[0mhidden_inputs\u001b[0m\u001b[1;33m)\u001b[0m\u001b[1;33m\u001b[0m\u001b[1;33m\u001b[0m\u001b[0m\n\u001b[0;32m     26\u001b[0m \u001b[1;33m\u001b[0m\u001b[0m\n",
      "\u001b[1;32mC:\\py\\anaconda\\lib\\site-packages\\numpy\\core\\overrides.py\u001b[0m in \u001b[0;36mdot\u001b[1;34m(*args, **kwargs)\u001b[0m\n",
      "\u001b[1;31mKeyboardInterrupt\u001b[0m: "
     ]
    }
   ],
   "source": [
    "epochs = 8\n",
    "\n",
    "for e in range(epochs):\n",
    "    for record in training_data_list:\n",
    "        all_values = record.split(\",\")\n",
    "\n",
    "        inputs = (numpy.asfarray(all_values[1:]) / 255.0 * 0.99) + 0.01\n",
    "\n",
    "        targets = numpy.zeros(output_nodes) + 0.01\n",
    "\n",
    "        targets[int(all_values[0])] = 0.99\n",
    "        n.train(inputs, targets)\n",
    "        pass\n",
    "    pass"
   ]
  },
  {
   "cell_type": "code",
   "execution_count": 8,
   "id": "58df76bc",
   "metadata": {},
   "outputs": [
    {
     "name": "stdout",
     "output_type": "stream",
     "text": [
      "loading...my_own_picture/2828_my_own_9.pnge\n",
      "min= 0.01\n",
      "max= 1.0\n"
     ]
    },
    {
     "ename": "NameError",
     "evalue": "name 'image_data' is not defined",
     "output_type": "error",
     "traceback": [
      "\u001b[1;31m---------------------------------------------------------------------------\u001b[0m",
      "\u001b[1;31mNameError\u001b[0m                                 Traceback (most recent call last)",
      "\u001b[1;32mC:\\Users\\ALVINA~1\\AppData\\Local\\Temp/ipykernel_32300/3800444110.py\u001b[0m in \u001b[0;36m<module>\u001b[1;34m\u001b[0m\n\u001b[0;32m      8\u001b[0m \u001b[0mprint\u001b[0m\u001b[1;33m(\u001b[0m\u001b[1;34m\"max=\"\u001b[0m\u001b[1;33m,\u001b[0m\u001b[0mnumpy\u001b[0m\u001b[1;33m.\u001b[0m\u001b[0mmax\u001b[0m\u001b[1;33m(\u001b[0m\u001b[0mimg_data\u001b[0m\u001b[1;33m)\u001b[0m\u001b[1;33m)\u001b[0m\u001b[1;33m\u001b[0m\u001b[1;33m\u001b[0m\u001b[0m\n\u001b[0;32m      9\u001b[0m \u001b[1;33m\u001b[0m\u001b[0m\n\u001b[1;32m---> 10\u001b[1;33m \u001b[0mmatplotlib\u001b[0m\u001b[1;33m.\u001b[0m\u001b[0mpyplot\u001b[0m\u001b[1;33m.\u001b[0m\u001b[0mimshow\u001b[0m\u001b[1;33m(\u001b[0m\u001b[0mimage_data\u001b[0m\u001b[1;33m.\u001b[0m\u001b[0mreshape\u001b[0m\u001b[1;33m(\u001b[0m\u001b[1;36m28\u001b[0m\u001b[1;33m,\u001b[0m\u001b[1;36m28\u001b[0m\u001b[1;33m)\u001b[0m\u001b[1;33m,\u001b[0m\u001b[0mcmap\u001b[0m\u001b[1;33m=\u001b[0m\u001b[1;34m'Greys'\u001b[0m\u001b[1;33m,\u001b[0m\u001b[0minterpolation\u001b[0m\u001b[1;33m=\u001b[0m\u001b[1;34m'None'\u001b[0m\u001b[1;33m)\u001b[0m\u001b[1;33m\u001b[0m\u001b[1;33m\u001b[0m\u001b[0m\n\u001b[0m\u001b[0;32m     11\u001b[0m \u001b[1;33m\u001b[0m\u001b[0m\n\u001b[0;32m     12\u001b[0m \u001b[0moutputs\u001b[0m\u001b[1;33m=\u001b[0m\u001b[0mn\u001b[0m\u001b[1;33m.\u001b[0m\u001b[0mquery\u001b[0m\u001b[1;33m(\u001b[0m\u001b[0mimg_data\u001b[0m\u001b[1;33m)\u001b[0m\u001b[1;33m\u001b[0m\u001b[1;33m\u001b[0m\u001b[0m\n",
      "\u001b[1;31mNameError\u001b[0m: name 'image_data' is not defined"
     ]
    }
   ],
   "source": [
    "print(\"loading...my_own_picture/2828_my_own_9.pnge\")\n",
    "img_array=imageio.imread('C:/my_own_picture/2828_my_own_9.png',as_gray=True)\n",
    "\n",
    "img_data=255.0-img_array.reshape(784)\n",
    "\n",
    "img_data=(img_data/255.0*0.99)+0.01\n",
    "print(\"min=\",numpy.min(img_data))\n",
    "print(\"max=\",numpy.max(img_data))\n",
    "\n",
    "matplotlib.pyplot.imshow(img_data.reshape(28,28),cmap='Greys',interpolation='None')\n",
    "\n",
    "outputs=n.query(img_data)\n",
    "print(outputs)\n",
    "\n",
    "label=numpy.argmax(outputs)\n",
    "print(\"network says \",label)\n",
    "\n"
   ]
  },
  {
   "cell_type": "code",
   "execution_count": 9,
   "id": "04c3d343",
   "metadata": {},
   "outputs": [
    {
     "name": "stdout",
     "output_type": "stream",
     "text": [
      "loading...my_own_picture/2828_my_own_9.pnge\n",
      "min= 0.01\n",
      "max= 1.0\n",
      "[[0.01881586]\n",
      " [0.95856196]\n",
      " [0.00571468]\n",
      " [0.16263535]\n",
      " [0.06222533]\n",
      " [0.36583448]\n",
      " [0.00963585]\n",
      " [0.81611085]\n",
      " [0.00143739]\n",
      " [0.0015471 ]]\n",
      "network says  1\n"
     ]
    },
    {
     "data": {
      "image/png": "[encoded data removed]",
      "text/plain": [
       "<Figure size 432x288 with 1 Axes>"
      ]
     },
     "metadata": {
      "needs_background": "light"
     },
     "output_type": "display_data"
    }
   ],
   "source": [
    "print(\"loading...my_own_picture/2828_my_own_9.pnge\")\n",
    "img_array=imageio.imread('C:/my_own_picture/2828_my_own_9.png',as_gray=True)\n",
    "\n",
    "img_data=255.0-img_array.reshape(784)\n",
    "\n",
    "img_data=(img_data/255.0*0.99)+0.01\n",
    "print(\"min=\",numpy.min(img_data))\n",
    "print(\"max=\",numpy.max(img_data))\n",
    "\n",
    "matplotlib.pyplot.imshow(img_data.reshape(28,28),cmap='Greys',interpolation='None')\n",
    "\n",
    "outputs=n.query(img_data)\n",
    "print(outputs)\n",
    "\n",
    "label=numpy.argmax(outputs)\n",
    "print(\"network says \",label)\n",
    "\n"
   ]
  },
  {
   "cell_type": "code",
   "execution_count": 10,
   "id": "61961c6a",
   "metadata": {},
   "outputs": [
    {
     "ename": "KeyboardInterrupt",
     "evalue": "",
     "output_type": "error",
     "traceback": [
      "\u001b[1;31m---------------------------------------------------------------------------\u001b[0m",
      "\u001b[1;31mKeyboardInterrupt\u001b[0m                         Traceback (most recent call last)",
      "\u001b[1;32mC:\\Users\\ALVINA~1\\AppData\\Local\\Temp/ipykernel_32300/4209222755.py\u001b[0m in \u001b[0;36m<module>\u001b[1;34m\u001b[0m\n\u001b[0;32m     10\u001b[0m \u001b[1;33m\u001b[0m\u001b[0m\n\u001b[0;32m     11\u001b[0m         \u001b[0mtargets\u001b[0m\u001b[1;33m[\u001b[0m\u001b[0mint\u001b[0m\u001b[1;33m(\u001b[0m\u001b[0mall_values\u001b[0m\u001b[1;33m[\u001b[0m\u001b[1;36m0\u001b[0m\u001b[1;33m]\u001b[0m\u001b[1;33m)\u001b[0m\u001b[1;33m]\u001b[0m \u001b[1;33m=\u001b[0m \u001b[1;36m0.99\u001b[0m\u001b[1;33m\u001b[0m\u001b[1;33m\u001b[0m\u001b[0m\n\u001b[1;32m---> 12\u001b[1;33m         \u001b[0mn\u001b[0m\u001b[1;33m.\u001b[0m\u001b[0mtrain\u001b[0m\u001b[1;33m(\u001b[0m\u001b[0minputs\u001b[0m\u001b[1;33m,\u001b[0m \u001b[0mtargets\u001b[0m\u001b[1;33m)\u001b[0m\u001b[1;33m\u001b[0m\u001b[1;33m\u001b[0m\u001b[0m\n\u001b[0m\u001b[0;32m     13\u001b[0m         \u001b[1;32mpass\u001b[0m\u001b[1;33m\u001b[0m\u001b[1;33m\u001b[0m\u001b[0m\n\u001b[0;32m     14\u001b[0m     \u001b[1;32mpass\u001b[0m\u001b[1;33m\u001b[0m\u001b[1;33m\u001b[0m\u001b[0m\n",
      "\u001b[1;32mC:\\Users\\ALVINA~1\\AppData\\Local\\Temp/ipykernel_32300/3670390000.py\u001b[0m in \u001b[0;36mtrain\u001b[1;34m(self, inputs_list, targets_list)\u001b[0m\n\u001b[0;32m     35\u001b[0m             \u001b[0mnumpy\u001b[0m\u001b[1;33m.\u001b[0m\u001b[0mtranspose\u001b[0m\u001b[1;33m(\u001b[0m\u001b[0mhidden_outputs\u001b[0m\u001b[1;33m)\u001b[0m\u001b[1;33m,\u001b[0m\u001b[1;33m\u001b[0m\u001b[1;33m\u001b[0m\u001b[0m\n\u001b[0;32m     36\u001b[0m         )\n\u001b[1;32m---> 37\u001b[1;33m         self.wih += self.lr * numpy.dot(\n\u001b[0m\u001b[0;32m     38\u001b[0m             \u001b[1;33m(\u001b[0m\u001b[0mhidden_errors\u001b[0m \u001b[1;33m*\u001b[0m \u001b[0mhidden_outputs\u001b[0m \u001b[1;33m*\u001b[0m \u001b[1;33m(\u001b[0m\u001b[1;36m1.0\u001b[0m \u001b[1;33m-\u001b[0m \u001b[0mhidden_outputs\u001b[0m\u001b[1;33m)\u001b[0m\u001b[1;33m)\u001b[0m\u001b[1;33m,\u001b[0m\u001b[1;33m\u001b[0m\u001b[1;33m\u001b[0m\u001b[0m\n\u001b[0;32m     39\u001b[0m             \u001b[0mnumpy\u001b[0m\u001b[1;33m.\u001b[0m\u001b[0mtranspose\u001b[0m\u001b[1;33m(\u001b[0m\u001b[0minputs\u001b[0m\u001b[1;33m)\u001b[0m\u001b[1;33m,\u001b[0m\u001b[1;33m\u001b[0m\u001b[1;33m\u001b[0m\u001b[0m\n",
      "\u001b[1;31mKeyboardInterrupt\u001b[0m: "
     ]
    }
   ],
   "source": [
    "epochs = 8\n",
    "\n",
    "for e in range(epochs):\n",
    "    for record in training_data_list:\n",
    "        all_values = record.split(\",\")\n",
    "\n",
    "        inputs = (numpy.asfarray(all_values[1:]) / 255.0 * 0.99) + 0.01\n",
    "\n",
    "        targets = numpy.zeros(output_nodes) + 0.01\n",
    "\n",
    "        targets[int(all_values[0])] = 0.99\n",
    "        n.train(inputs, targets)\n",
    "        pass\n",
    "    pass"
   ]
  },
  {
   "cell_type": "code",
   "execution_count": 11,
   "id": "a1c6c0f0",
   "metadata": {},
   "outputs": [
    {
     "name": "stdout",
     "output_type": "stream",
     "text": [
      "loading...my_own_picture/2828_my_own_9.pnge\n",
      "min= 0.01\n",
      "max= 1.0\n",
      "[[7.21287992e-03]\n",
      " [9.88415535e-01]\n",
      " [7.10347943e-04]\n",
      " [1.74089935e-02]\n",
      " [7.26852693e-02]\n",
      " [8.98882750e-02]\n",
      " [1.35622978e-03]\n",
      " [2.58903964e-01]\n",
      " [1.42823464e-03]\n",
      " [7.48905237e-04]]\n",
      "network says  1\n"
     ]
    },
    {
     "data": {
      "image/png": "[encoded data removed]",
      "text/plain": [
       "<Figure size 432x288 with 1 Axes>"
      ]
     },
     "metadata": {
      "needs_background": "light"
     },
     "output_type": "display_data"
    }
   ],
   "source": [
    "epochs = 8\n",
    "\n",
    "for e in range(epochs):\n",
    "    for record in training_data_list:\n",
    "        all_values = record.split(\",\")\n",
    "\n",
    "        inputs = (numpy.asfarray(all_values[1:]) / 255.0 * 0.99) + 0.01\n",
    "\n",
    "        targets = numpy.zeros(output_nodes) + 0.01\n",
    "\n",
    "        targets[int(all_values[0])] = 0.99\n",
    "        n.train(inputs, targets)\n",
    "        pass\n",
    "    pass\n",
    "\n",
    "print(\"loading...my_own_picture/2828_my_own_9.pnge\")\n",
    "img_array=imageio.imread('C:/my_own_picture/2828_my_own_9.png',as_gray=True)\n",
    "\n",
    "img_data=255.0-img_array.reshape(784)\n",
    "\n",
    "img_data=(img_data/255.0*0.99)+0.01\n",
    "print(\"min=\",numpy.min(img_data))\n",
    "print(\"max=\",numpy.max(img_data))\n",
    "\n",
    "matplotlib.pyplot.imshow(img_data.reshape(28,28),cmap='Greys',interpolation='None')\n",
    "\n",
    "outputs=n.query(img_data)\n",
    "print(outputs)\n",
    "\n",
    "label=numpy.argmax(outputs)\n",
    "print(\"network says \",label)\n",
    "\n"
   ]
  },
  {
   "cell_type": "code",
   "execution_count": 12,
   "id": "55f7ce20",
   "metadata": {},
   "outputs": [
    {
     "name": "stdout",
     "output_type": "stream",
     "text": [
      "loading ... my_own_picture/2828_my_own_3.pnge\n",
      "min= 0.01\n",
      "max= 1.0\n",
      "[[0.00266916]\n",
      " [0.02067836]\n",
      " [0.01231975]\n",
      " [0.89232489]\n",
      " [0.00643798]\n",
      " [0.01614216]\n",
      " [0.09535686]\n",
      " [0.00673278]\n",
      " [0.01103306]\n",
      " [0.00250761]]\n",
      "network says  3\n"
     ]
    },
    {
     "data": {
      "image/png": "[encoded data removed]",
      "text/plain": [
       "<Figure size 432x288 with 1 Axes>"
      ]
     },
     "metadata": {
      "needs_background": "light"
     },
     "output_type": "display_data"
    }
   ],
   "source": [
    "print(\"loading ... my_own_picture/2828_my_own_3.pnge\")\n",
    "\n",
    "img_array = imageio.imread('C:/my_own_picture/2828_my_own_3.png', as_gray = True)\n",
    "\n",
    "img_data = 255.0 - img_array.reshape(784)\n",
    "img_data = (img_data / 255.0 * 0.99) + 0.01\n",
    "\n",
    "print(\"min=\", numpy.min(img_data))\n",
    "print(\"max=\", numpy.max(img_data))\n",
    "\n",
    "matplotlib.pyplot.imshow(img_data.reshape(28, 28), cmap='Greys', interpolation='None')\n",
    "outputs = n.query(img_data)\n",
    "\n",
    "print(outputs)\n",
    "label = numpy.argmax(outputs)\n",
    "print(\"network says \", label)"
   ]
  },
  {
   "cell_type": "code",
   "execution_count": 13,
   "id": "efa32cfc",
   "metadata": {},
   "outputs": [
    {
     "name": "stdout",
     "output_type": "stream",
     "text": [
      "loading ... my_own_picture/2828_my_own_1.pnge\n"
     ]
    },
    {
     "ename": "FileNotFoundError",
     "evalue": "No such file: 'C:\\my_own_picture\\2828_my_own_1.png'",
     "output_type": "error",
     "traceback": [
      "\u001b[1;31m---------------------------------------------------------------------------\u001b[0m",
      "\u001b[1;31mFileNotFoundError\u001b[0m                         Traceback (most recent call last)",
      "\u001b[1;32mC:\\Users\\ALVINA~1\\AppData\\Local\\Temp/ipykernel_32300/3626018474.py\u001b[0m in \u001b[0;36m<module>\u001b[1;34m\u001b[0m\n\u001b[0;32m      1\u001b[0m \u001b[0mprint\u001b[0m\u001b[1;33m(\u001b[0m\u001b[1;34m\"loading ... my_own_picture/2828_my_own_1.pnge\"\u001b[0m\u001b[1;33m)\u001b[0m\u001b[1;33m\u001b[0m\u001b[1;33m\u001b[0m\u001b[0m\n\u001b[0;32m      2\u001b[0m \u001b[1;33m\u001b[0m\u001b[0m\n\u001b[1;32m----> 3\u001b[1;33m \u001b[0mimg_array\u001b[0m \u001b[1;33m=\u001b[0m \u001b[0mimageio\u001b[0m\u001b[1;33m.\u001b[0m\u001b[0mimread\u001b[0m\u001b[1;33m(\u001b[0m\u001b[1;34m'C:/my_own_picture/2828_my_own_1.png'\u001b[0m\u001b[1;33m,\u001b[0m \u001b[0mas_gray\u001b[0m \u001b[1;33m=\u001b[0m \u001b[1;32mTrue\u001b[0m\u001b[1;33m)\u001b[0m\u001b[1;33m\u001b[0m\u001b[1;33m\u001b[0m\u001b[0m\n\u001b[0m\u001b[0;32m      4\u001b[0m \u001b[1;33m\u001b[0m\u001b[0m\n\u001b[0;32m      5\u001b[0m \u001b[0mimg_data\u001b[0m \u001b[1;33m=\u001b[0m \u001b[1;36m255.0\u001b[0m \u001b[1;33m-\u001b[0m \u001b[0mimg_array\u001b[0m\u001b[1;33m.\u001b[0m\u001b[0mreshape\u001b[0m\u001b[1;33m(\u001b[0m\u001b[1;36m784\u001b[0m\u001b[1;33m)\u001b[0m\u001b[1;33m\u001b[0m\u001b[1;33m\u001b[0m\u001b[0m\n",
      "\u001b[1;32mC:\\py\\anaconda\\lib\\site-packages\\imageio\\core\\functions.py\u001b[0m in \u001b[0;36mimread\u001b[1;34m(uri, format, **kwargs)\u001b[0m\n\u001b[0;32m    263\u001b[0m \u001b[1;33m\u001b[0m\u001b[0m\n\u001b[0;32m    264\u001b[0m     \u001b[1;31m# Get reader and read first\u001b[0m\u001b[1;33m\u001b[0m\u001b[1;33m\u001b[0m\u001b[0m\n\u001b[1;32m--> 265\u001b[1;33m     \u001b[0mreader\u001b[0m \u001b[1;33m=\u001b[0m \u001b[0mread\u001b[0m\u001b[1;33m(\u001b[0m\u001b[0muri\u001b[0m\u001b[1;33m,\u001b[0m \u001b[0mformat\u001b[0m\u001b[1;33m,\u001b[0m \u001b[1;34m\"i\"\u001b[0m\u001b[1;33m,\u001b[0m \u001b[1;33m**\u001b[0m\u001b[0mkwargs\u001b[0m\u001b[1;33m)\u001b[0m\u001b[1;33m\u001b[0m\u001b[1;33m\u001b[0m\u001b[0m\n\u001b[0m\u001b[0;32m    266\u001b[0m     \u001b[1;32mwith\u001b[0m \u001b[0mreader\u001b[0m\u001b[1;33m:\u001b[0m\u001b[1;33m\u001b[0m\u001b[1;33m\u001b[0m\u001b[0m\n\u001b[0;32m    267\u001b[0m         \u001b[1;32mreturn\u001b[0m \u001b[0mreader\u001b[0m\u001b[1;33m.\u001b[0m\u001b[0mget_data\u001b[0m\u001b[1;33m(\u001b[0m\u001b[1;36m0\u001b[0m\u001b[1;33m)\u001b[0m\u001b[1;33m\u001b[0m\u001b[1;33m\u001b[0m\u001b[0m\n",
      "\u001b[1;32mC:\\py\\anaconda\\lib\\site-packages\\imageio\\core\\functions.py\u001b[0m in \u001b[0;36mget_reader\u001b[1;34m(uri, format, mode, **kwargs)\u001b[0m\n\u001b[0;32m    170\u001b[0m \u001b[1;33m\u001b[0m\u001b[0m\n\u001b[0;32m    171\u001b[0m     \u001b[1;31m# Create request object\u001b[0m\u001b[1;33m\u001b[0m\u001b[1;33m\u001b[0m\u001b[0m\n\u001b[1;32m--> 172\u001b[1;33m     \u001b[0mrequest\u001b[0m \u001b[1;33m=\u001b[0m \u001b[0mRequest\u001b[0m\u001b[1;33m(\u001b[0m\u001b[0muri\u001b[0m\u001b[1;33m,\u001b[0m \u001b[1;34m\"r\"\u001b[0m \u001b[1;33m+\u001b[0m \u001b[0mmode\u001b[0m\u001b[1;33m,\u001b[0m \u001b[1;33m**\u001b[0m\u001b[0mkwargs\u001b[0m\u001b[1;33m)\u001b[0m\u001b[1;33m\u001b[0m\u001b[1;33m\u001b[0m\u001b[0m\n\u001b[0m\u001b[0;32m    173\u001b[0m \u001b[1;33m\u001b[0m\u001b[0m\n\u001b[0;32m    174\u001b[0m     \u001b[1;31m# Get format\u001b[0m\u001b[1;33m\u001b[0m\u001b[1;33m\u001b[0m\u001b[0m\n",
      "\u001b[1;32mC:\\py\\anaconda\\lib\\site-packages\\imageio\\core\\request.py\u001b[0m in \u001b[0;36m__init__\u001b[1;34m(self, uri, mode, **kwargs)\u001b[0m\n\u001b[0;32m    122\u001b[0m \u001b[1;33m\u001b[0m\u001b[0m\n\u001b[0;32m    123\u001b[0m         \u001b[1;31m# Parse what was given\u001b[0m\u001b[1;33m\u001b[0m\u001b[1;33m\u001b[0m\u001b[0m\n\u001b[1;32m--> 124\u001b[1;33m         \u001b[0mself\u001b[0m\u001b[1;33m.\u001b[0m\u001b[0m_parse_uri\u001b[0m\u001b[1;33m(\u001b[0m\u001b[0muri\u001b[0m\u001b[1;33m)\u001b[0m\u001b[1;33m\u001b[0m\u001b[1;33m\u001b[0m\u001b[0m\n\u001b[0m\u001b[0;32m    125\u001b[0m \u001b[1;33m\u001b[0m\u001b[0m\n\u001b[0;32m    126\u001b[0m         \u001b[1;31m# Set extension\u001b[0m\u001b[1;33m\u001b[0m\u001b[1;33m\u001b[0m\u001b[0m\n",
      "\u001b[1;32mC:\\py\\anaconda\\lib\\site-packages\\imageio\\core\\request.py\u001b[0m in \u001b[0;36m_parse_uri\u001b[1;34m(self, uri)\u001b[0m\n\u001b[0;32m    258\u001b[0m                 \u001b[1;31m# Reading: check that the file exists (but is allowed a dir)\u001b[0m\u001b[1;33m\u001b[0m\u001b[1;33m\u001b[0m\u001b[0m\n\u001b[0;32m    259\u001b[0m                 \u001b[1;32mif\u001b[0m \u001b[1;32mnot\u001b[0m \u001b[0mos\u001b[0m\u001b[1;33m.\u001b[0m\u001b[0mpath\u001b[0m\u001b[1;33m.\u001b[0m\u001b[0mexists\u001b[0m\u001b[1;33m(\u001b[0m\u001b[0mfn\u001b[0m\u001b[1;33m)\u001b[0m\u001b[1;33m:\u001b[0m\u001b[1;33m\u001b[0m\u001b[1;33m\u001b[0m\u001b[0m\n\u001b[1;32m--> 260\u001b[1;33m                     \u001b[1;32mraise\u001b[0m \u001b[0mFileNotFoundError\u001b[0m\u001b[1;33m(\u001b[0m\u001b[1;34m\"No such file: '%s'\"\u001b[0m \u001b[1;33m%\u001b[0m \u001b[0mfn\u001b[0m\u001b[1;33m)\u001b[0m\u001b[1;33m\u001b[0m\u001b[1;33m\u001b[0m\u001b[0m\n\u001b[0m\u001b[0;32m    261\u001b[0m             \u001b[1;32melse\u001b[0m\u001b[1;33m:\u001b[0m\u001b[1;33m\u001b[0m\u001b[1;33m\u001b[0m\u001b[0m\n\u001b[0;32m    262\u001b[0m                 \u001b[1;31m# Writing: check that the directory to write to does exist\u001b[0m\u001b[1;33m\u001b[0m\u001b[1;33m\u001b[0m\u001b[0m\n",
      "\u001b[1;31mFileNotFoundError\u001b[0m: No such file: 'C:\\my_own_picture\\2828_my_own_1.png'"
     ]
    }
   ],
   "source": [
    "print(\"loading ... my_own_picture/2828_my_own_1.pnge\")\n",
    "\n",
    "img_array = imageio.imread('C:/my_own_picture/2828_my_own_1.png', as_gray = True)\n",
    "\n",
    "img_data = 255.0 - img_array.reshape(784)\n",
    "img_data = (img_data / 255.0 * 0.99) + 0.01\n",
    "\n",
    "print(\"min=\", numpy.min(img_data))\n",
    "print(\"max=\", numpy.max(img_data))\n",
    "\n",
    "matplotlib.pyplot.imshow(img_data.reshape(28, 28), cmap='Greys', interpolation='None')\n",
    "outputs = n.query(img_data)\n",
    "\n",
    "print(outputs)\n",
    "label = numpy.argmax(outputs)\n",
    "print(\"network says \", label)"
   ]
  },
  {
   "cell_type": "code",
   "execution_count": 14,
   "id": "5b7892a3",
   "metadata": {},
   "outputs": [
    {
     "name": "stdout",
     "output_type": "stream",
     "text": [
      "loading ... my_own_picture/2828_my_own_1.pnge\n",
      "min= 0.01\n",
      "max= 1.0\n",
      "[[8.65685299e-04]\n",
      " [8.80375755e-01]\n",
      " [4.49646479e-03]\n",
      " [4.68036008e-02]\n",
      " [3.45493220e-05]\n",
      " [8.47195280e-04]\n",
      " [3.65152276e-04]\n",
      " [6.82266350e-04]\n",
      " [8.87734272e-04]\n",
      " [1.44104896e-03]]\n",
      "network says  1\n"
     ]
    },
    {
     "data": {
      "image/png": "[encoded data removed]",
      "text/plain": [
       "<Figure size 432x288 with 1 Axes>"
      ]
     },
     "metadata": {
      "needs_background": "light"
     },
     "output_type": "display_data"
    }
   ],
   "source": [
    "print(\"loading ... my_own_picture/2828_my_own_1.pnge\")\n",
    "\n",
    "img_array = imageio.imread('C:/my_own_picture/2828_my_own_1.png', as_gray = True)\n",
    "\n",
    "img_data = 255.0 - img_array.reshape(784)\n",
    "img_data = (img_data / 255.0 * 0.99) + 0.01\n",
    "\n",
    "print(\"min=\", numpy.min(img_data))\n",
    "print(\"max=\", numpy.max(img_data))\n",
    "\n",
    "matplotlib.pyplot.imshow(img_data.reshape(28, 28), cmap='Greys', interpolation='None')\n",
    "outputs = n.query(img_data)\n",
    "\n",
    "print(outputs)\n",
    "label = numpy.argmax(outputs)\n",
    "print(\"network says \", label)"
   ]
  },
  {
   "cell_type": "code",
   "execution_count": 15,
   "id": "05cd0d54",
   "metadata": {},
   "outputs": [
    {
     "name": "stdout",
     "output_type": "stream",
     "text": [
      "loading ... my_own_picture/2828_my_own_2.pnge\n",
      "min= 0.01\n",
      "max= 1.0\n",
      "[[2.02198649e-05]\n",
      " [7.60124998e-04]\n",
      " [9.98582977e-01]\n",
      " [2.82259372e-06]\n",
      " [3.86286815e-04]\n",
      " [4.17023725e-02]\n",
      " [3.76969253e-04]\n",
      " [1.22060090e-03]\n",
      " [3.46470102e-06]\n",
      " [6.45477396e-03]]\n",
      "network says  2\n"
     ]
    },
    {
     "data": {
      "image/png": "[encoded data removed]",
      "text/plain": [
       "<Figure size 432x288 with 1 Axes>"
      ]
     },
     "metadata": {
      "needs_background": "light"
     },
     "output_type": "display_data"
    }
   ],
   "source": [
    "print(\"loading ... my_own_picture/2828_my_own_2.pnge\")\n",
    "\n",
    "img_array = imageio.imread('C:/my_own_picture/2828_my_own_2.png', as_gray = True)\n",
    "\n",
    "img_data = 255.0 - img_array.reshape(784)\n",
    "img_data = (img_data / 255.0 * 0.99) + 0.01\n",
    "\n",
    "print(\"min=\", numpy.min(img_data))\n",
    "print(\"max=\", numpy.max(img_data))\n",
    "\n",
    "matplotlib.pyplot.imshow(img_data.reshape(28, 28), cmap='Greys', interpolation='None')\n",
    "outputs = n.query(img_data)\n",
    "\n",
    "print(outputs)\n",
    "label = numpy.argmax(outputs)\n",
    "print(\"network says \", label)"
   ]
  },
  {
   "cell_type": "code",
   "execution_count": 16,
   "id": "1da6cc07",
   "metadata": {},
   "outputs": [
    {
     "name": "stdout",
     "output_type": "stream",
     "text": [
      "loading ... my_own_picture/2828_my_own_4.pnge\n",
      "min= 0.01\n",
      "max= 1.0\n",
      "[[2.68414010e-03]\n",
      " [3.36268103e-03]\n",
      " [7.32530341e-03]\n",
      " [6.36129164e-04]\n",
      " [9.99719474e-01]\n",
      " [1.79025585e-02]\n",
      " [5.09140023e-04]\n",
      " [1.10066972e-02]\n",
      " [3.41694935e-03]\n",
      " [3.72149785e-04]]\n",
      "network says  4\n"
     ]
    },
    {
     "data": {
      "image/png": "[encoded data removed]",
      "text/plain": [
       "<Figure size 432x288 with 1 Axes>"
      ]
     },
     "metadata": {
      "needs_background": "light"
     },
     "output_type": "display_data"
    }
   ],
   "source": [
    "print(\"loading ... my_own_picture/2828_my_own_4.pnge\")\n",
    "\n",
    "img_array = imageio.imread('C:/my_own_picture/2828_my_own_4.png', as_gray = True)\n",
    "\n",
    "img_data = 255.0 - img_array.reshape(784)\n",
    "img_data = (img_data / 255.0 * 0.99) + 0.01\n",
    "\n",
    "print(\"min=\", numpy.min(img_data))\n",
    "print(\"max=\", numpy.max(img_data))\n",
    "\n",
    "matplotlib.pyplot.imshow(img_data.reshape(28, 28), cmap='Greys', interpolation='None')\n",
    "outputs = n.query(img_data)\n",
    "\n",
    "print(outputs)\n",
    "label = numpy.argmax(outputs)\n",
    "print(\"network says \", label)"
   ]
  },
  {
   "cell_type": "code",
   "execution_count": 17,
   "id": "33384bb2",
   "metadata": {},
   "outputs": [
    {
     "name": "stdout",
     "output_type": "stream",
     "text": [
      "loading ... my_own_picture/2828_my_own_8.pnge\n",
      "min= 0.01\n",
      "max= 1.0\n",
      "[[0.05018104]\n",
      " [0.2055993 ]\n",
      " [0.01203343]\n",
      " [0.2550662 ]\n",
      " [0.03656508]\n",
      " [0.16154625]\n",
      " [0.0933027 ]\n",
      " [0.04376241]\n",
      " [0.05285458]\n",
      " [0.01803276]]\n",
      "network says  3\n"
     ]
    },
    {
     "data": {
      "image/png": "[encoded data removed]",
      "text/plain": [
       "<Figure size 432x288 with 1 Axes>"
      ]
     },
     "metadata": {
      "needs_background": "light"
     },
     "output_type": "display_data"
    }
   ],
   "source": [
    "print(\"loading ... my_own_picture/2828_my_own_8.pnge\")\n",
    "\n",
    "img_array = imageio.imread('C:/my_own_picture/2828_my_own_8.png', as_gray = True)\n",
    "\n",
    "img_data = 255.0 - img_array.reshape(784)\n",
    "img_data = (img_data / 255.0 * 0.99) + 0.01\n",
    "\n",
    "print(\"min=\", numpy.min(img_data))\n",
    "print(\"max=\", numpy.max(img_data))\n",
    "\n",
    "matplotlib.pyplot.imshow(img_data.reshape(28, 28), cmap='Greys', interpolation='None')\n",
    "outputs = n.query(img_data)\n",
    "\n",
    "print(outputs)\n",
    "label = numpy.argmax(outputs)\n",
    "print(\"network says \", label)"
   ]
  },
  {
   "cell_type": "code",
   "execution_count": 18,
   "id": "e0f1d185",
   "metadata": {},
   "outputs": [
    {
     "name": "stdout",
     "output_type": "stream",
     "text": [
      "loading ... my_own_picture/2828_my_own_9.pnge\n",
      "min= 0.01\n",
      "max= 1.0\n",
      "[[0.0810838 ]\n",
      " [0.05052927]\n",
      " [0.07384005]\n",
      " [0.20409219]\n",
      " [0.06820637]\n",
      " [0.05224604]\n",
      " [0.12083922]\n",
      " [0.10544228]\n",
      " [0.15994046]\n",
      " [0.14105321]]\n",
      "network says  3\n"
     ]
    },
    {
     "data": {
      "image/png": "[encoded data removed]",
      "text/plain": [
       "<Figure size 432x288 with 1 Axes>"
      ]
     },
     "metadata": {
      "needs_background": "light"
     },
     "output_type": "display_data"
    }
   ],
   "source": [
    "print(\"loading ... my_own_picture/2828_my_own_9.pnge\")\n",
    "\n",
    "img_array = imageio.imread('C:/my_own_picture/2828_my_own_9.png', as_gray = True)\n",
    "\n",
    "img_data = 255.0 - img_array.reshape(784)\n",
    "img_data = (img_data / 255.0 * 0.99) + 0.01\n",
    "\n",
    "print(\"min=\", numpy.min(img_data))\n",
    "print(\"max=\", numpy.max(img_data))\n",
    "\n",
    "matplotlib.pyplot.imshow(img_data.reshape(28, 28), cmap='Greys', interpolation='None')\n",
    "outputs = n.query(img_data)\n",
    "\n",
    "print(outputs)\n",
    "label = numpy.argmax(outputs)\n",
    "print(\"network says \", label)"
   ]
  },
  {
   "cell_type": "code",
   "execution_count": 19,
   "id": "a06074c6",
   "metadata": {},
   "outputs": [
    {
     "name": "stdout",
     "output_type": "stream",
     "text": [
      "loading ... my_own_picture/2828_my_own_9.pnge\n",
      "min= 0.01\n",
      "max= 1.0\n",
      "[[0.00152328]\n",
      " [0.01209005]\n",
      " [0.00795253]\n",
      " [0.97150115]\n",
      " [0.0113191 ]\n",
      " [0.24083065]\n",
      " [0.00778446]\n",
      " [0.0055414 ]\n",
      " [0.00372128]\n",
      " [0.00262858]]\n",
      "network says  3\n"
     ]
    },
    {
     "data": {
      "image/png": "[encoded data removed]",
      "text/plain": [
       "<Figure size 432x288 with 1 Axes>"
      ]
     },
     "metadata": {
      "needs_background": "light"
     },
     "output_type": "display_data"
    }
   ],
   "source": [
    "print(\"loading ... my_own_picture/2828_my_own_9.pnge\")\n",
    "\n",
    "img_array = imageio.imread('C:/my_own_picture/2828_my_own_9.png', as_gray = True)\n",
    "\n",
    "img_data = 255.0 - img_array.reshape(784)\n",
    "img_data = (img_data / 255.0 * 0.99) + 0.01\n",
    "\n",
    "print(\"min=\", numpy.min(img_data))\n",
    "print(\"max=\", numpy.max(img_data))\n",
    "\n",
    "matplotlib.pyplot.imshow(img_data.reshape(28, 28), cmap='Greys', interpolation='None')\n",
    "outputs = n.query(img_data)\n",
    "\n",
    "print(outputs)\n",
    "label = numpy.argmax(outputs)\n",
    "print(\"network says \", label)"
   ]
  },
  {
   "cell_type": "code",
   "execution_count": 20,
   "id": "d90de731",
   "metadata": {},
   "outputs": [
    {
     "name": "stdout",
     "output_type": "stream",
     "text": [
      "loading ... my_own_picture/2828_my_own_9.pnge\n",
      "min= 0.01\n",
      "max= 1.0\n",
      "[[0.00190779]\n",
      " [0.01102743]\n",
      " [0.00915255]\n",
      " [0.97114656]\n",
      " [0.0070614 ]\n",
      " [0.21952233]\n",
      " [0.00541304]\n",
      " [0.00439899]\n",
      " [0.00410667]\n",
      " [0.0026378 ]]\n",
      "network says  3\n"
     ]
    },
    {
     "data": {
      "image/png": "[encoded data removed]",
      "text/plain": [
       "<Figure size 432x288 with 1 Axes>"
      ]
     },
     "metadata": {
      "needs_background": "light"
     },
     "output_type": "display_data"
    }
   ],
   "source": [
    "print(\"loading ... my_own_picture/2828_my_own_9.pnge\")\n",
    "\n",
    "img_array = imageio.imread('C:/my_own_picture/2828_my_own_9.png', as_gray = True)\n",
    "\n",
    "img_data = 255.0 - img_array.reshape(784)\n",
    "img_data = (img_data / 255.0 * 0.99) + 0.01\n",
    "\n",
    "print(\"min=\", numpy.min(img_data))\n",
    "print(\"max=\", numpy.max(img_data))\n",
    "\n",
    "matplotlib.pyplot.imshow(img_data.reshape(28, 28), cmap='Greys', interpolation='None')\n",
    "outputs = n.query(img_data)\n",
    "\n",
    "print(outputs)\n",
    "label = numpy.argmax(outputs)\n",
    "print(\"network says \", label)"
   ]
  },
  {
   "cell_type": "code",
   "execution_count": 21,
   "id": "d1333e0c",
   "metadata": {},
   "outputs": [
    {
     "name": "stdout",
     "output_type": "stream",
     "text": [
      "loading ... my_own_picture/2828_my_own_8.pnge\n",
      "min= 0.01\n",
      "max= 1.0\n",
      "[[0.01545899]\n",
      " [0.00387302]\n",
      " [0.01460227]\n",
      " [0.81838094]\n",
      " [0.00282418]\n",
      " [0.02627144]\n",
      " [0.00307862]\n",
      " [0.00115177]\n",
      " [0.00328713]\n",
      " [0.00127271]]\n",
      "network says  3\n"
     ]
    },
    {
     "data": {
      "image/png": "[encoded data removed]",
      "text/plain": [
       "<Figure size 432x288 with 1 Axes>"
      ]
     },
     "metadata": {
      "needs_background": "light"
     },
     "output_type": "display_data"
    }
   ],
   "source": [
    "print(\"loading ... my_own_picture/2828_my_own_8.pnge\")\n",
    "\n",
    "img_array = imageio.imread('C:/my_own_picture/2828_my_own_8.png', as_gray = True)\n",
    "\n",
    "img_data = 255.0 - img_array.reshape(784)\n",
    "img_data = (img_data / 255.0 * 0.99) + 0.01\n",
    "\n",
    "print(\"min=\", numpy.min(img_data))\n",
    "print(\"max=\", numpy.max(img_data))\n",
    "\n",
    "matplotlib.pyplot.imshow(img_data.reshape(28, 28), cmap='Greys', interpolation='None')\n",
    "outputs = n.query(img_data)\n",
    "\n",
    "print(outputs)\n",
    "label = numpy.argmax(outputs)\n",
    "print(\"network says \", label)"
   ]
  },
  {
   "cell_type": "code",
   "execution_count": 22,
   "id": "48fb5bb0",
   "metadata": {},
   "outputs": [
    {
     "name": "stdout",
     "output_type": "stream",
     "text": [
      "loading ... my_own_picture/2828_my_own_8.pnge\n",
      "min= 0.01\n",
      "max= 1.0\n",
      "[[3.40770047e-04]\n",
      " [1.71809556e-03]\n",
      " [2.56367738e-04]\n",
      " [2.59031602e-03]\n",
      " [1.13936156e-01]\n",
      " [9.69182764e-01]\n",
      " [8.78605609e-04]\n",
      " [6.66815966e-03]\n",
      " [9.12134012e-05]\n",
      " [8.39673562e-03]]\n",
      "network says  5\n"
     ]
    },
    {
     "data": {
      "image/png": "[encoded data removed]",
      "text/plain": [
       "<Figure size 432x288 with 1 Axes>"
      ]
     },
     "metadata": {
      "needs_background": "light"
     },
     "output_type": "display_data"
    }
   ],
   "source": [
    "print(\"loading ... my_own_picture/2828_my_own_8.pnge\")\n",
    "\n",
    "img_array = imageio.imread('C:/my_own_picture/2828_my_own_8.png', as_gray = True)\n",
    "\n",
    "img_data = 255.0 - img_array.reshape(784)\n",
    "img_data = (img_data / 255.0 * 0.99) + 0.01\n",
    "\n",
    "print(\"min=\", numpy.min(img_data))\n",
    "print(\"max=\", numpy.max(img_data))\n",
    "\n",
    "matplotlib.pyplot.imshow(img_data.reshape(28, 28), cmap='Greys', interpolation='None')\n",
    "outputs = n.query(img_data)\n",
    "\n",
    "print(outputs)\n",
    "label = numpy.argmax(outputs)\n",
    "print(\"network says \", label)"
   ]
  },
  {
   "cell_type": "code",
   "execution_count": 23,
   "id": "aed39c8a",
   "metadata": {},
   "outputs": [
    {
     "name": "stdout",
     "output_type": "stream",
     "text": [
      "loading ... my_own_picture/2828_my_own_5.pnge\n"
     ]
    },
    {
     "ename": "FileNotFoundError",
     "evalue": "No such file: 'C:\\my_own_picture\\2828_my_own_5.png'",
     "output_type": "error",
     "traceback": [
      "\u001b[1;31m---------------------------------------------------------------------------\u001b[0m",
      "\u001b[1;31mFileNotFoundError\u001b[0m                         Traceback (most recent call last)",
      "\u001b[1;32mC:\\Users\\ALVINA~1\\AppData\\Local\\Temp/ipykernel_32300/3035951210.py\u001b[0m in \u001b[0;36m<module>\u001b[1;34m\u001b[0m\n\u001b[0;32m      1\u001b[0m \u001b[0mprint\u001b[0m\u001b[1;33m(\u001b[0m\u001b[1;34m\"loading ... my_own_picture/2828_my_own_5.pnge\"\u001b[0m\u001b[1;33m)\u001b[0m\u001b[1;33m\u001b[0m\u001b[1;33m\u001b[0m\u001b[0m\n\u001b[0;32m      2\u001b[0m \u001b[1;33m\u001b[0m\u001b[0m\n\u001b[1;32m----> 3\u001b[1;33m \u001b[0mimg_array\u001b[0m \u001b[1;33m=\u001b[0m \u001b[0mimageio\u001b[0m\u001b[1;33m.\u001b[0m\u001b[0mimread\u001b[0m\u001b[1;33m(\u001b[0m\u001b[1;34m'C:/my_own_picture/2828_my_own_5.png'\u001b[0m\u001b[1;33m,\u001b[0m \u001b[0mas_gray\u001b[0m \u001b[1;33m=\u001b[0m \u001b[1;32mTrue\u001b[0m\u001b[1;33m)\u001b[0m\u001b[1;33m\u001b[0m\u001b[1;33m\u001b[0m\u001b[0m\n\u001b[0m\u001b[0;32m      4\u001b[0m \u001b[1;33m\u001b[0m\u001b[0m\n\u001b[0;32m      5\u001b[0m \u001b[0mimg_data\u001b[0m \u001b[1;33m=\u001b[0m \u001b[1;36m255.0\u001b[0m \u001b[1;33m-\u001b[0m \u001b[0mimg_array\u001b[0m\u001b[1;33m.\u001b[0m\u001b[0mreshape\u001b[0m\u001b[1;33m(\u001b[0m\u001b[1;36m784\u001b[0m\u001b[1;33m)\u001b[0m\u001b[1;33m\u001b[0m\u001b[1;33m\u001b[0m\u001b[0m\n",
      "\u001b[1;32mC:\\py\\anaconda\\lib\\site-packages\\imageio\\core\\functions.py\u001b[0m in \u001b[0;36mimread\u001b[1;34m(uri, format, **kwargs)\u001b[0m\n\u001b[0;32m    263\u001b[0m \u001b[1;33m\u001b[0m\u001b[0m\n\u001b[0;32m    264\u001b[0m     \u001b[1;31m# Get reader and read first\u001b[0m\u001b[1;33m\u001b[0m\u001b[1;33m\u001b[0m\u001b[0m\n\u001b[1;32m--> 265\u001b[1;33m     \u001b[0mreader\u001b[0m \u001b[1;33m=\u001b[0m \u001b[0mread\u001b[0m\u001b[1;33m(\u001b[0m\u001b[0muri\u001b[0m\u001b[1;33m,\u001b[0m \u001b[0mformat\u001b[0m\u001b[1;33m,\u001b[0m \u001b[1;34m\"i\"\u001b[0m\u001b[1;33m,\u001b[0m \u001b[1;33m**\u001b[0m\u001b[0mkwargs\u001b[0m\u001b[1;33m)\u001b[0m\u001b[1;33m\u001b[0m\u001b[1;33m\u001b[0m\u001b[0m\n\u001b[0m\u001b[0;32m    266\u001b[0m     \u001b[1;32mwith\u001b[0m \u001b[0mreader\u001b[0m\u001b[1;33m:\u001b[0m\u001b[1;33m\u001b[0m\u001b[1;33m\u001b[0m\u001b[0m\n\u001b[0;32m    267\u001b[0m         \u001b[1;32mreturn\u001b[0m \u001b[0mreader\u001b[0m\u001b[1;33m.\u001b[0m\u001b[0mget_data\u001b[0m\u001b[1;33m(\u001b[0m\u001b[1;36m0\u001b[0m\u001b[1;33m)\u001b[0m\u001b[1;33m\u001b[0m\u001b[1;33m\u001b[0m\u001b[0m\n",
      "\u001b[1;32mC:\\py\\anaconda\\lib\\site-packages\\imageio\\core\\functions.py\u001b[0m in \u001b[0;36mget_reader\u001b[1;34m(uri, format, mode, **kwargs)\u001b[0m\n\u001b[0;32m    170\u001b[0m \u001b[1;33m\u001b[0m\u001b[0m\n\u001b[0;32m    171\u001b[0m     \u001b[1;31m# Create request object\u001b[0m\u001b[1;33m\u001b[0m\u001b[1;33m\u001b[0m\u001b[0m\n\u001b[1;32m--> 172\u001b[1;33m     \u001b[0mrequest\u001b[0m \u001b[1;33m=\u001b[0m \u001b[0mRequest\u001b[0m\u001b[1;33m(\u001b[0m\u001b[0muri\u001b[0m\u001b[1;33m,\u001b[0m \u001b[1;34m\"r\"\u001b[0m \u001b[1;33m+\u001b[0m \u001b[0mmode\u001b[0m\u001b[1;33m,\u001b[0m \u001b[1;33m**\u001b[0m\u001b[0mkwargs\u001b[0m\u001b[1;33m)\u001b[0m\u001b[1;33m\u001b[0m\u001b[1;33m\u001b[0m\u001b[0m\n\u001b[0m\u001b[0;32m    173\u001b[0m \u001b[1;33m\u001b[0m\u001b[0m\n\u001b[0;32m    174\u001b[0m     \u001b[1;31m# Get format\u001b[0m\u001b[1;33m\u001b[0m\u001b[1;33m\u001b[0m\u001b[0m\n",
      "\u001b[1;32mC:\\py\\anaconda\\lib\\site-packages\\imageio\\core\\request.py\u001b[0m in \u001b[0;36m__init__\u001b[1;34m(self, uri, mode, **kwargs)\u001b[0m\n\u001b[0;32m    122\u001b[0m \u001b[1;33m\u001b[0m\u001b[0m\n\u001b[0;32m    123\u001b[0m         \u001b[1;31m# Parse what was given\u001b[0m\u001b[1;33m\u001b[0m\u001b[1;33m\u001b[0m\u001b[0m\n\u001b[1;32m--> 124\u001b[1;33m         \u001b[0mself\u001b[0m\u001b[1;33m.\u001b[0m\u001b[0m_parse_uri\u001b[0m\u001b[1;33m(\u001b[0m\u001b[0muri\u001b[0m\u001b[1;33m)\u001b[0m\u001b[1;33m\u001b[0m\u001b[1;33m\u001b[0m\u001b[0m\n\u001b[0m\u001b[0;32m    125\u001b[0m \u001b[1;33m\u001b[0m\u001b[0m\n\u001b[0;32m    126\u001b[0m         \u001b[1;31m# Set extension\u001b[0m\u001b[1;33m\u001b[0m\u001b[1;33m\u001b[0m\u001b[0m\n",
      "\u001b[1;32mC:\\py\\anaconda\\lib\\site-packages\\imageio\\core\\request.py\u001b[0m in \u001b[0;36m_parse_uri\u001b[1;34m(self, uri)\u001b[0m\n\u001b[0;32m    258\u001b[0m                 \u001b[1;31m# Reading: check that the file exists (but is allowed a dir)\u001b[0m\u001b[1;33m\u001b[0m\u001b[1;33m\u001b[0m\u001b[0m\n\u001b[0;32m    259\u001b[0m                 \u001b[1;32mif\u001b[0m \u001b[1;32mnot\u001b[0m \u001b[0mos\u001b[0m\u001b[1;33m.\u001b[0m\u001b[0mpath\u001b[0m\u001b[1;33m.\u001b[0m\u001b[0mexists\u001b[0m\u001b[1;33m(\u001b[0m\u001b[0mfn\u001b[0m\u001b[1;33m)\u001b[0m\u001b[1;33m:\u001b[0m\u001b[1;33m\u001b[0m\u001b[1;33m\u001b[0m\u001b[0m\n\u001b[1;32m--> 260\u001b[1;33m                     \u001b[1;32mraise\u001b[0m \u001b[0mFileNotFoundError\u001b[0m\u001b[1;33m(\u001b[0m\u001b[1;34m\"No such file: '%s'\"\u001b[0m \u001b[1;33m%\u001b[0m \u001b[0mfn\u001b[0m\u001b[1;33m)\u001b[0m\u001b[1;33m\u001b[0m\u001b[1;33m\u001b[0m\u001b[0m\n\u001b[0m\u001b[0;32m    261\u001b[0m             \u001b[1;32melse\u001b[0m\u001b[1;33m:\u001b[0m\u001b[1;33m\u001b[0m\u001b[1;33m\u001b[0m\u001b[0m\n\u001b[0;32m    262\u001b[0m                 \u001b[1;31m# Writing: check that the directory to write to does exist\u001b[0m\u001b[1;33m\u001b[0m\u001b[1;33m\u001b[0m\u001b[0m\n",
      "\u001b[1;31mFileNotFoundError\u001b[0m: No such file: 'C:\\my_own_picture\\2828_my_own_5.png'"
     ]
    }
   ],
   "source": [
    "print(\"loading ... my_own_picture/2828_my_own_5.pnge\")\n",
    "\n",
    "img_array = imageio.imread('C:/my_own_picture/2828_my_own_5.png', as_gray = True)\n",
    "\n",
    "img_data = 255.0 - img_array.reshape(784)\n",
    "img_data = (img_data / 255.0 * 0.99) + 0.01\n",
    "\n",
    "print(\"min=\", numpy.min(img_data))\n",
    "print(\"max=\", numpy.max(img_data))\n",
    "\n",
    "matplotlib.pyplot.imshow(img_data.reshape(28, 28), cmap='Greys', interpolation='None')\n",
    "outputs = n.query(img_data)\n",
    "\n",
    "print(outputs)\n",
    "label = numpy.argmax(outputs)\n",
    "print(\"network says \", label)"
   ]
  },
  {
   "cell_type": "code",
   "execution_count": 24,
   "id": "0be13ceb",
   "metadata": {},
   "outputs": [
    {
     "name": "stdout",
     "output_type": "stream",
     "text": [
      "loading ... my_own_picture/2828_my_own_5.pnge\n",
      "min= 0.01\n",
      "max= 1.0\n",
      "[[1.02479846e-04]\n",
      " [5.17761472e-04]\n",
      " [5.27956593e-05]\n",
      " [1.69793816e-03]\n",
      " [7.33292969e-03]\n",
      " [9.95935924e-01]\n",
      " [1.03594040e-04]\n",
      " [3.93322087e-03]\n",
      " [4.21824717e-06]\n",
      " [2.43333962e-03]]\n",
      "network says  5\n"
     ]
    },
    {
     "data": {
      "image/png": "[encoded data removed]",
      "text/plain": [
       "<Figure size 432x288 with 1 Axes>"
      ]
     },
     "metadata": {
      "needs_background": "light"
     },
     "output_type": "display_data"
    }
   ],
   "source": [
    "print(\"loading ... my_own_picture/2828_my_own_5.pnge\")\n",
    "\n",
    "img_array = imageio.imread('C:/my_own_picture/2828_my_own_5.png', as_gray = True)\n",
    "\n",
    "img_data = 255.0 - img_array.reshape(784)\n",
    "img_data = (img_data / 255.0 * 0.99) + 0.01\n",
    "\n",
    "print(\"min=\", numpy.min(img_data))\n",
    "print(\"max=\", numpy.max(img_data))\n",
    "\n",
    "matplotlib.pyplot.imshow(img_data.reshape(28, 28), cmap='Greys', interpolation='None')\n",
    "outputs = n.query(img_data)\n",
    "\n",
    "print(outputs)\n",
    "label = numpy.argmax(outputs)\n",
    "print(\"network says \", label)"
   ]
  },
  {
   "cell_type": "code",
   "execution_count": 25,
   "id": "a9325c50",
   "metadata": {},
   "outputs": [
    {
     "name": "stdout",
     "output_type": "stream",
     "text": [
      "loading ... my_own_picture/2828_my_own_0.pnge\n",
      "min= 0.01\n",
      "max= 1.0\n",
      "[[0.19149758]\n",
      " [0.03035366]\n",
      " [0.03480163]\n",
      " [0.08171146]\n",
      " [0.26236293]\n",
      " [0.03892712]\n",
      " [0.00546266]\n",
      " [0.21345288]\n",
      " [0.01357952]\n",
      " [0.02829203]]\n",
      "network says  4\n"
     ]
    },
    {
     "data": {
      "image/png": "[encoded data removed]",
      "text/plain": [
       "<Figure size 432x288 with 1 Axes>"
      ]
     },
     "metadata": {
      "needs_background": "light"
     },
     "output_type": "display_data"
    }
   ],
   "source": [
    "print(\"loading ... my_own_picture/2828_my_own_0.pnge\")\n",
    "\n",
    "img_array = imageio.imread('C:/my_own_picture/2828_my_own_0.png', as_gray = True)\n",
    "\n",
    "img_data = 255.0 - img_array.reshape(784)\n",
    "img_data = (img_data / 255.0 * 0.99) + 0.01\n",
    "\n",
    "print(\"min=\", numpy.min(img_data))\n",
    "print(\"max=\", numpy.max(img_data))\n",
    "\n",
    "matplotlib.pyplot.imshow(img_data.reshape(28, 28), cmap='Greys', interpolation='None')\n",
    "outputs = n.query(img_data)\n",
    "\n",
    "print(outputs)\n",
    "label = numpy.argmax(outputs)\n",
    "print(\"network says \", label)"
   ]
  },
  {
   "cell_type": "code",
   "execution_count": 26,
   "id": "30091fd9",
   "metadata": {},
   "outputs": [
    {
     "name": "stdout",
     "output_type": "stream",
     "text": [
      "loading ... my_own_picture/2828_my_own_0.pnge\n",
      "min= 0.01\n",
      "max= 1.0\n",
      "[[0.0777565 ]\n",
      " [0.03336353]\n",
      " [0.05023041]\n",
      " [0.08392138]\n",
      " [0.49776476]\n",
      " [0.01837716]\n",
      " [0.01843633]\n",
      " [0.2446018 ]\n",
      " [0.03172433]\n",
      " [0.02728508]]\n",
      "network says  4\n"
     ]
    },
    {
     "data": {
      "image/png": "[encoded data removed]",
      "text/plain": [
       "<Figure size 432x288 with 1 Axes>"
      ]
     },
     "metadata": {
      "needs_background": "light"
     },
     "output_type": "display_data"
    }
   ],
   "source": [
    "print(\"loading ... my_own_picture/2828_my_own_0.pnge\")\n",
    "\n",
    "img_array = imageio.imread('C:/my_own_picture/2828_my_own_0.png', as_gray = True)\n",
    "\n",
    "img_data = 255.0 - img_array.reshape(784)\n",
    "img_data = (img_data / 255.0 * 0.99) + 0.01\n",
    "\n",
    "print(\"min=\", numpy.min(img_data))\n",
    "print(\"max=\", numpy.max(img_data))\n",
    "\n",
    "matplotlib.pyplot.imshow(img_data.reshape(28, 28), cmap='Greys', interpolation='None')\n",
    "outputs = n.query(img_data)\n",
    "\n",
    "print(outputs)\n",
    "label = numpy.argmax(outputs)\n",
    "print(\"network says \", label)"
   ]
  },
  {
   "cell_type": "code",
   "execution_count": 27,
   "id": "88a4e150",
   "metadata": {},
   "outputs": [
    {
     "name": "stdout",
     "output_type": "stream",
     "text": [
      "loading ... my_own_picture/2828_my_own_0.pnge\n",
      "min= 0.01\n",
      "max= 0.67\n",
      "[[2.40333595e-06]\n",
      " [2.59223568e-04]\n",
      " [1.62403215e-01]\n",
      " [2.44917523e-08]\n",
      " [1.66215072e-03]\n",
      " [7.11092597e-04]\n",
      " [4.85515084e-05]\n",
      " [1.45327665e-06]\n",
      " [3.14550787e-12]\n",
      " [3.11452024e-02]]\n",
      "network says  2\n"
     ]
    },
    {
     "data": {
      "image/png": "[encoded data removed]",
      "text/plain": [
       "<Figure size 432x288 with 1 Axes>"
      ]
     },
     "metadata": {
      "needs_background": "light"
     },
     "output_type": "display_data"
    }
   ],
   "source": [
    "print(\"loading ... my_own_picture/2828_my_own_0.pnge\")\n",
    "\n",
    "img_array = imageio.imread('C:/my_own_picture/2828_my_own_0.png', as_gray = True)\n",
    "\n",
    "img_data = 255.0 - img_array.reshape(784)\n",
    "img_data = (img_data / 255.0 * 0.99) + 0.01\n",
    "\n",
    "print(\"min=\", numpy.min(img_data))\n",
    "print(\"max=\", numpy.max(img_data))\n",
    "\n",
    "matplotlib.pyplot.imshow(img_data.reshape(28, 28), cmap='Greys', interpolation='None')\n",
    "outputs = n.query(img_data)\n",
    "\n",
    "print(outputs)\n",
    "label = numpy.argmax(outputs)\n",
    "print(\"network says \", label)"
   ]
  },
  {
   "cell_type": "code",
   "execution_count": 28,
   "id": "3d41739e",
   "metadata": {},
   "outputs": [
    {
     "name": "stdout",
     "output_type": "stream",
     "text": [
      "loading ... my_own_picture/2828_my_own_0.pnge\n",
      "min= 0.01\n",
      "max= 0.67\n",
      "[[0.15199836]\n",
      " [0.00631841]\n",
      " [0.0124576 ]\n",
      " [0.00455143]\n",
      " [0.01281421]\n",
      " [0.02253069]\n",
      " [0.01367694]\n",
      " [0.02019909]\n",
      " [0.76001136]\n",
      " [0.09947819]]\n",
      "network says  8\n"
     ]
    },
    {
     "data": {
      "image/png": "[encoded data removed]",
      "text/plain": [
       "<Figure size 432x288 with 1 Axes>"
      ]
     },
     "metadata": {
      "needs_background": "light"
     },
     "output_type": "display_data"
    }
   ],
   "source": [
    "print(\"loading ... my_own_picture/2828_my_own_0.pnge\")\n",
    "\n",
    "img_array = imageio.imread('C:/my_own_picture/2828_my_own_0.png', as_gray = True)\n",
    "\n",
    "img_data = 255.0 - img_array.reshape(784)\n",
    "img_data = (img_data / 255.0 * 0.99) + 0.01\n",
    "\n",
    "print(\"min=\", numpy.min(img_data))\n",
    "print(\"max=\", numpy.max(img_data))\n",
    "\n",
    "matplotlib.pyplot.imshow(img_data.reshape(28, 28), cmap='Greys', interpolation='None')\n",
    "outputs = n.query(img_data)\n",
    "\n",
    "print(outputs)\n",
    "label = numpy.argmax(outputs)\n",
    "print(\"network says \", label)"
   ]
  },
  {
   "cell_type": "code",
   "execution_count": 29,
   "id": "10380078",
   "metadata": {},
   "outputs": [
    {
     "name": "stdout",
     "output_type": "stream",
     "text": [
      "loading ... my_own_picture/2828_my_own_0.pnge\n",
      "min= 0.01\n",
      "max= 1.0\n",
      "[[0.63027171]\n",
      " [0.02600472]\n",
      " [0.00313776]\n",
      " [0.05428975]\n",
      " [0.0443004 ]\n",
      " [0.01309446]\n",
      " [0.01038403]\n",
      " [0.13474561]\n",
      " [0.01760044]\n",
      " [0.10962813]]\n",
      "network says  0\n"
     ]
    },
    {
     "data": {
      "image/png": "[encoded data removed]",
      "text/plain": [
       "<Figure size 432x288 with 1 Axes>"
      ]
     },
     "metadata": {
      "needs_background": "light"
     },
     "output_type": "display_data"
    }
   ],
   "source": [
    "print(\"loading ... my_own_picture/2828_my_own_0.pnge\")\n",
    "\n",
    "img_array = imageio.imread('C:/my_own_picture/2828_my_own_0.png', as_gray = True)\n",
    "\n",
    "img_data = 255.0 - img_array.reshape(784)\n",
    "img_data = (img_data / 255.0 * 0.99) + 0.01\n",
    "\n",
    "print(\"min=\", numpy.min(img_data))\n",
    "print(\"max=\", numpy.max(img_data))\n",
    "\n",
    "matplotlib.pyplot.imshow(img_data.reshape(28, 28), cmap='Greys', interpolation='None')\n",
    "outputs = n.query(img_data)\n",
    "\n",
    "print(outputs)\n",
    "label = numpy.argmax(outputs)\n",
    "print(\"network says \", label)"
   ]
  },
  {
   "cell_type": "code",
   "execution_count": 30,
   "id": "afa9948d",
   "metadata": {},
   "outputs": [
    {
     "name": "stdout",
     "output_type": "stream",
     "text": [
      "loading ... my_own_picture/2828_my_own_6.pnge\n",
      "min= 0.01\n",
      "max= 1.0\n",
      "[[0.00586916]\n",
      " [0.00987625]\n",
      " [0.10550893]\n",
      " [0.00144829]\n",
      " [0.01647707]\n",
      " [0.3750411 ]\n",
      " [0.00300224]\n",
      " [0.04460662]\n",
      " [0.03474169]\n",
      " [0.02103537]]\n",
      "network says  5\n"
     ]
    },
    {
     "data": {
      "image/png": "[encoded data removed]",
      "text/plain": [
       "<Figure size 432x288 with 1 Axes>"
      ]
     },
     "metadata": {
      "needs_background": "light"
     },
     "output_type": "display_data"
    }
   ],
   "source": [
    "print(\"loading ... my_own_picture/2828_my_own_6.pnge\")\n",
    "\n",
    "img_array = imageio.imread('C:/my_own_picture/2828_my_own_6.png', as_gray = True)\n",
    "\n",
    "img_data = 255.0 - img_array.reshape(784)\n",
    "img_data = (img_data / 255.0 * 0.99) + 0.01\n",
    "\n",
    "print(\"min=\", numpy.min(img_data))\n",
    "print(\"max=\", numpy.max(img_data))\n",
    "\n",
    "matplotlib.pyplot.imshow(img_data.reshape(28, 28), cmap='Greys', interpolation='None')\n",
    "outputs = n.query(img_data)\n",
    "\n",
    "print(outputs)\n",
    "label = numpy.argmax(outputs)\n",
    "print(\"network says \", label)"
   ]
  },
  {
   "cell_type": "code",
   "execution_count": 31,
   "id": "a6db54eb",
   "metadata": {},
   "outputs": [
    {
     "name": "stdout",
     "output_type": "stream",
     "text": [
      "loading ... my_own_picture/2828_my_own_0.pnge\n",
      "min= 0.01\n",
      "max= 1.0\n",
      "[[0.63027171]\n",
      " [0.02600472]\n",
      " [0.00313776]\n",
      " [0.05428975]\n",
      " [0.0443004 ]\n",
      " [0.01309446]\n",
      " [0.01038403]\n",
      " [0.13474561]\n",
      " [0.01760044]\n",
      " [0.10962813]]\n",
      "network says  0\n"
     ]
    },
    {
     "data": {
      "image/png": "[encoded data removed]",
      "text/plain": [
       "<Figure size 432x288 with 1 Axes>"
      ]
     },
     "metadata": {
      "needs_background": "light"
     },
     "output_type": "display_data"
    }
   ],
   "source": [
    "print(\"loading ... my_own_picture/2828_my_own_0.pnge\")\n",
    "\n",
    "img_array = imageio.imread('C:/my_own_picture/2828_my_own_0.png', as_gray = True)\n",
    "\n",
    "img_data = 255.0 - img_array.reshape(784)\n",
    "img_data = (img_data / 255.0 * 0.99) + 0.01\n",
    "\n",
    "print(\"min=\", numpy.min(img_data))\n",
    "print(\"max=\", numpy.max(img_data))\n",
    "\n",
    "matplotlib.pyplot.imshow(img_data.reshape(28, 28), cmap='Greys', interpolation='None')\n",
    "outputs = n.query(img_data)\n",
    "\n",
    "print(outputs)\n",
    "label = numpy.argmax(outputs)\n",
    "print(\"network says \", label)"
   ]
  },
  {
   "cell_type": "code",
   "execution_count": 32,
   "id": "e9d1f28c",
   "metadata": {},
   "outputs": [
    {
     "name": "stdout",
     "output_type": "stream",
     "text": [
      "loading ... my_own_picture/2828_my_own_6.pnge\n",
      "min= 0.01\n",
      "max= 1.0\n",
      "[[3.12054704e-03]\n",
      " [8.62643819e-03]\n",
      " [1.85408969e-01]\n",
      " [1.41759218e-03]\n",
      " [1.38948247e-04]\n",
      " [1.98239881e-01]\n",
      " [1.79850318e-01]\n",
      " [4.51334456e-02]\n",
      " [1.21395673e-02]\n",
      " [3.84917077e-03]]\n",
      "network says  5\n"
     ]
    },
    {
     "data": {
      "image/png": "[encoded data removed]",
      "text/plain": [
       "<Figure size 432x288 with 1 Axes>"
      ]
     },
     "metadata": {
      "needs_background": "light"
     },
     "output_type": "display_data"
    }
   ],
   "source": [
    "print(\"loading ... my_own_picture/2828_my_own_6.pnge\")\n",
    "\n",
    "img_array = imageio.imread('C:/my_own_picture/2828_my_own_6.png', as_gray = True)\n",
    "\n",
    "img_data = 255.0 - img_array.reshape(784)\n",
    "img_data = (img_data / 255.0 * 0.99) + 0.01\n",
    "\n",
    "print(\"min=\", numpy.min(img_data))\n",
    "print(\"max=\", numpy.max(img_data))\n",
    "\n",
    "matplotlib.pyplot.imshow(img_data.reshape(28, 28), cmap='Greys', interpolation='None')\n",
    "outputs = n.query(img_data)\n",
    "\n",
    "print(outputs)\n",
    "label = numpy.argmax(outputs)\n",
    "print(\"network says \", label)"
   ]
  },
  {
   "cell_type": "code",
   "execution_count": 33,
   "id": "b3433db0",
   "metadata": {},
   "outputs": [
    {
     "name": "stdout",
     "output_type": "stream",
     "text": [
      "loading ... my_own_picture/2828_my_own_0.pnge\n",
      "min= 0.01\n",
      "max= 1.0\n",
      "[[0.63027171]\n",
      " [0.02600472]\n",
      " [0.00313776]\n",
      " [0.05428975]\n",
      " [0.0443004 ]\n",
      " [0.01309446]\n",
      " [0.01038403]\n",
      " [0.13474561]\n",
      " [0.01760044]\n",
      " [0.10962813]]\n",
      "network says  0\n"
     ]
    },
    {
     "data": {
      "image/png": "[encoded data removed]",
      "text/plain": [
       "<Figure size 432x288 with 1 Axes>"
      ]
     },
     "metadata": {
      "needs_background": "light"
     },
     "output_type": "display_data"
    }
   ],
   "source": [
    "print(\"loading ... my_own_picture/2828_my_own_0.pnge\")\n",
    "\n",
    "img_array = imageio.imread('C:/my_own_picture/2828_my_own_0.png', as_gray = True)\n",
    "\n",
    "img_data = 255.0 - img_array.reshape(784)\n",
    "img_data = (img_data / 255.0 * 0.99) + 0.01\n",
    "\n",
    "print(\"min=\", numpy.min(img_data))\n",
    "print(\"max=\", numpy.max(img_data))\n",
    "\n",
    "matplotlib.pyplot.imshow(img_data.reshape(28, 28), cmap='Greys', interpolation='None')\n",
    "outputs = n.query(img_data)\n",
    "\n",
    "print(outputs)\n",
    "label = numpy.argmax(outputs)\n",
    "print(\"network says \", label)"
   ]
  },
  {
   "cell_type": "code",
   "execution_count": 34,
   "id": "6a7fc8d4",
   "metadata": {},
   "outputs": [
    {
     "name": "stdout",
     "output_type": "stream",
     "text": [
      "loading ... my_own_picture/2828_my_own_6.pnge\n",
      "min= 0.01\n",
      "max= 1.0\n",
      "[[1.28540317e-04]\n",
      " [8.06750497e-04]\n",
      " [3.57597398e-04]\n",
      " [2.38394339e-01]\n",
      " [1.47004517e-03]\n",
      " [4.74553255e-01]\n",
      " [6.88628087e-03]\n",
      " [9.90256363e-01]\n",
      " [2.20379418e-03]\n",
      " [4.42753431e-04]]\n",
      "network says  7\n"
     ]
    },
    {
     "data": {
      "image/png": "[encoded data removed]",
      "text/plain": [
       "<Figure size 432x288 with 1 Axes>"
      ]
     },
     "metadata": {
      "needs_background": "light"
     },
     "output_type": "display_data"
    }
   ],
   "source": [
    "print(\"loading ... my_own_picture/2828_my_own_6.pnge\")\n",
    "\n",
    "img_array = imageio.imread('C:/my_own_picture/2828_my_own_6.png', as_gray = True)\n",
    "\n",
    "img_data = 255.0 - img_array.reshape(784)\n",
    "img_data = (img_data / 255.0 * 0.99) + 0.01\n",
    "\n",
    "print(\"min=\", numpy.min(img_data))\n",
    "print(\"max=\", numpy.max(img_data))\n",
    "\n",
    "matplotlib.pyplot.imshow(img_data.reshape(28, 28), cmap='Greys', interpolation='None')\n",
    "outputs = n.query(img_data)\n",
    "\n",
    "print(outputs)\n",
    "label = numpy.argmax(outputs)\n",
    "print(\"network says \", label)"
   ]
  },
  {
   "cell_type": "code",
   "execution_count": 35,
   "id": "ddaddc80",
   "metadata": {},
   "outputs": [
    {
     "name": "stdout",
     "output_type": "stream",
     "text": [
      "loading ... my_own_picture/2828_my_own_6.pnge\n",
      "min= 0.01\n",
      "max= 0.7709412\n",
      "[[6.13708731e-03]\n",
      " [1.92039936e-03]\n",
      " [2.71670839e-02]\n",
      " [3.65886492e-04]\n",
      " [1.02997188e-02]\n",
      " [1.04637357e-02]\n",
      " [6.89577626e-03]\n",
      " [3.09650313e-03]\n",
      " [4.77495883e-03]\n",
      " [5.79673614e-01]]\n",
      "network says  9\n"
     ]
    },
    {
     "data": {
      "image/png": "[encoded data removed]",
      "text/plain": [
       "<Figure size 432x288 with 1 Axes>"
      ]
     },
     "metadata": {
      "needs_background": "light"
     },
     "output_type": "display_data"
    }
   ],
   "source": [
    "print(\"loading ... my_own_picture/2828_my_own_6.pnge\")\n",
    "\n",
    "img_array = imageio.imread('C:/my_own_picture/2828_my_own_6.png', as_gray = True)\n",
    "\n",
    "img_data = 255.0 - img_array.reshape(784)\n",
    "img_data = (img_data / 255.0 * 0.99) + 0.01\n",
    "\n",
    "print(\"min=\", numpy.min(img_data))\n",
    "print(\"max=\", numpy.max(img_data))\n",
    "\n",
    "matplotlib.pyplot.imshow(img_data.reshape(28, 28), cmap='Greys', interpolation='None')\n",
    "outputs = n.query(img_data)\n",
    "\n",
    "print(outputs)\n",
    "label = numpy.argmax(outputs)\n",
    "print(\"network says \", label)"
   ]
  },
  {
   "cell_type": "code",
   "execution_count": 36,
   "id": "0744dda5",
   "metadata": {},
   "outputs": [
    {
     "name": "stdout",
     "output_type": "stream",
     "text": [
      "loading ... my_own_picture/2828_my_own_6.pnge\n",
      "min= 0.01\n",
      "max= 0.7709412\n",
      "[[0.01445488]\n",
      " [0.01030163]\n",
      " [0.01232847]\n",
      " [0.00156986]\n",
      " [0.05942401]\n",
      " [0.94515095]\n",
      " [0.00459792]\n",
      " [0.04189552]\n",
      " [0.0149057 ]\n",
      " [0.02311585]]\n",
      "network says  5\n"
     ]
    },
    {
     "data": {
      "image/png": "[encoded data removed]",
      "text/plain": [
       "<Figure size 432x288 with 1 Axes>"
      ]
     },
     "metadata": {
      "needs_background": "light"
     },
     "output_type": "display_data"
    }
   ],
   "source": [
    "print(\"loading ... my_own_picture/2828_my_own_6.pnge\")\n",
    "\n",
    "img_array = imageio.imread('C:/my_own_picture/2828_my_own_6.png', as_gray = True)\n",
    "\n",
    "img_data = 255.0 - img_array.reshape(784)\n",
    "img_data = (img_data / 255.0 * 0.99) + 0.01\n",
    "\n",
    "print(\"min=\", numpy.min(img_data))\n",
    "print(\"max=\", numpy.max(img_data))\n",
    "\n",
    "matplotlib.pyplot.imshow(img_data.reshape(28, 28), cmap='Greys', interpolation='None')\n",
    "outputs = n.query(img_data)\n",
    "\n",
    "print(outputs)\n",
    "label = numpy.argmax(outputs)\n",
    "print(\"network says \", label)"
   ]
  },
  {
   "cell_type": "code",
   "execution_count": 37,
   "id": "dec16341",
   "metadata": {},
   "outputs": [
    {
     "name": "stdout",
     "output_type": "stream",
     "text": [
      "loading ... my_own_picture/2828_my_own_6.pnge\n",
      "min= 0.01\n",
      "max= 1.0\n",
      "[[0.04683911]\n",
      " [0.04027032]\n",
      " [0.04186103]\n",
      " [0.01282265]\n",
      " [0.07638794]\n",
      " [0.93938001]\n",
      " [0.01400515]\n",
      " [0.07566233]\n",
      " [0.02290092]\n",
      " [0.0282438 ]]\n",
      "network says  5\n"
     ]
    },
    {
     "data": {
      "image/png": "[encoded data removed]",
      "text/plain": [
       "<Figure size 432x288 with 1 Axes>"
      ]
     },
     "metadata": {
      "needs_background": "light"
     },
     "output_type": "display_data"
    }
   ],
   "source": [
    "print(\"loading ... my_own_picture/2828_my_own_6.pnge\")\n",
    "\n",
    "img_array = imageio.imread('C:/my_own_picture/2828_my_own_6.png', as_gray = True)\n",
    "\n",
    "img_data = 255.0 - img_array.reshape(784)\n",
    "img_data = (img_data / 255.0 * 0.99) + 0.01\n",
    "\n",
    "print(\"min=\", numpy.min(img_data))\n",
    "print(\"max=\", numpy.max(img_data))\n",
    "\n",
    "matplotlib.pyplot.imshow(img_data.reshape(28, 28), cmap='Greys', interpolation='None')\n",
    "outputs = n.query(img_data)\n",
    "\n",
    "print(outputs)\n",
    "label = numpy.argmax(outputs)\n",
    "print(\"network says \", label)"
   ]
  },
  {
   "cell_type": "code",
   "execution_count": 38,
   "id": "70d60713",
   "metadata": {},
   "outputs": [
    {
     "name": "stdout",
     "output_type": "stream",
     "text": [
      "loading ... my_own_picture/2828_my_own_6.pnge\n",
      "min= 0.01\n",
      "max= 1.0\n",
      "[[0.12211281]\n",
      " [0.05208627]\n",
      " [0.13059787]\n",
      " [0.16235451]\n",
      " [0.08129305]\n",
      " [0.03991781]\n",
      " [0.1082491 ]\n",
      " [0.12413642]\n",
      " [0.21554794]\n",
      " [0.14044413]]\n",
      "network says  8\n"
     ]
    },
    {
     "data": {
      "image/png": "[encoded data removed]",
      "text/plain": [
       "<Figure size 432x288 with 1 Axes>"
      ]
     },
     "metadata": {
      "needs_background": "light"
     },
     "output_type": "display_data"
    }
   ],
   "source": [
    "print(\"loading ... my_own_picture/2828_my_own_6.pnge\")\n",
    "\n",
    "img_array = imageio.imread('C:/my_own_picture/2828_my_own_6.png', as_gray = True)\n",
    "\n",
    "img_data = 255.0 - img_array.reshape(784)\n",
    "img_data = (img_data / 255.0 * 0.99) + 0.01\n",
    "\n",
    "print(\"min=\", numpy.min(img_data))\n",
    "print(\"max=\", numpy.max(img_data))\n",
    "\n",
    "matplotlib.pyplot.imshow(img_data.reshape(28, 28), cmap='Greys', interpolation='None')\n",
    "outputs = n.query(img_data)\n",
    "\n",
    "print(outputs)\n",
    "label = numpy.argmax(outputs)\n",
    "print(\"network says \", label)"
   ]
  },
  {
   "cell_type": "code",
   "execution_count": 39,
   "id": "8095d864",
   "metadata": {},
   "outputs": [
    {
     "name": "stdout",
     "output_type": "stream",
     "text": [
      "loading ... my_own_picture/2828_my_own_8.pnge\n",
      "min= 0.01\n",
      "max= 1.0\n",
      "[[6.57767360e-05]\n",
      " [1.29740767e-04]\n",
      " [8.21497772e-05]\n",
      " [6.75745983e-05]\n",
      " [1.10392509e-04]\n",
      " [9.97518497e-01]\n",
      " [1.40163209e-04]\n",
      " [6.17712374e-04]\n",
      " [5.26442159e-06]\n",
      " [9.74524201e-03]]\n",
      "network says  5\n"
     ]
    },
    {
     "data": {
      "image/png": "[encoded data removed]",
      "text/plain": [
       "<Figure size 432x288 with 1 Axes>"
      ]
     },
     "metadata": {
      "needs_background": "light"
     },
     "output_type": "display_data"
    }
   ],
   "source": [
    "print(\"loading ... my_own_picture/2828_my_own_8.pnge\")\n",
    "\n",
    "img_array = imageio.imread('C:/my_own_picture/2828_my_own_8.png', as_gray = True)\n",
    "\n",
    "img_data = 255.0 - img_array.reshape(784)\n",
    "img_data = (img_data / 255.0 * 0.99) + 0.01\n",
    "\n",
    "print(\"min=\", numpy.min(img_data))\n",
    "print(\"max=\", numpy.max(img_data))\n",
    "\n",
    "matplotlib.pyplot.imshow(img_data.reshape(28, 28), cmap='Greys', interpolation='None')\n",
    "outputs = n.query(img_data)\n",
    "\n",
    "print(outputs)\n",
    "label = numpy.argmax(outputs)\n",
    "print(\"network says \", label)"
   ]
  },
  {
   "cell_type": "code",
   "execution_count": 40,
   "id": "3cb4462d",
   "metadata": {},
   "outputs": [
    {
     "name": "stdout",
     "output_type": "stream",
     "text": [
      "loading ... my_own_picture/2828_my_own_6.pnge\n",
      "min= 0.01\n",
      "max= 1.0\n",
      "[[0.12211281]\n",
      " [0.05208627]\n",
      " [0.13059787]\n",
      " [0.16235451]\n",
      " [0.08129305]\n",
      " [0.03991781]\n",
      " [0.1082491 ]\n",
      " [0.12413642]\n",
      " [0.21554794]\n",
      " [0.14044413]]\n",
      "network says  8\n"
     ]
    },
    {
     "data": {
      "image/png": "[encoded data removed]",
      "text/plain": [
       "<Figure size 432x288 with 1 Axes>"
      ]
     },
     "metadata": {
      "needs_background": "light"
     },
     "output_type": "display_data"
    }
   ],
   "source": [
    "print(\"loading ... my_own_picture/2828_my_own_6.pnge\")\n",
    "\n",
    "img_array = imageio.imread('C:/my_own_picture/2828_my_own_6.png', as_gray = True)\n",
    "\n",
    "img_data = 255.0 - img_array.reshape(784)\n",
    "img_data = (img_data / 255.0 * 0.99) + 0.01\n",
    "\n",
    "print(\"min=\", numpy.min(img_data))\n",
    "print(\"max=\", numpy.max(img_data))\n",
    "\n",
    "matplotlib.pyplot.imshow(img_data.reshape(28, 28), cmap='Greys', interpolation='None')\n",
    "outputs = n.query(img_data)\n",
    "\n",
    "print(outputs)\n",
    "label = numpy.argmax(outputs)\n",
    "print(\"network says \", label)"
   ]
  },
  {
   "cell_type": "code",
   "execution_count": 41,
   "id": "b5d72691",
   "metadata": {},
   "outputs": [
    {
     "name": "stdout",
     "output_type": "stream",
     "text": [
      "loading ... my_own_picture/2828_my_own_6.pnge\n",
      "min= 0.01\n",
      "max= 1.0\n",
      "[[0.15490794]\n",
      " [0.06474695]\n",
      " [0.1436558 ]\n",
      " [0.20012052]\n",
      " [0.08835955]\n",
      " [0.03297032]\n",
      " [0.10063837]\n",
      " [0.15118424]\n",
      " [0.22538854]\n",
      " [0.15079769]]\n",
      "network says  8\n"
     ]
    },
    {
     "data": {
      "image/png": "[encoded data removed]",
      "text/plain": [
       "<Figure size 432x288 with 1 Axes>"
      ]
     },
     "metadata": {
      "needs_background": "light"
     },
     "output_type": "display_data"
    }
   ],
   "source": [
    "print(\"loading ... my_own_picture/2828_my_own_6.pnge\")\n",
    "\n",
    "img_array = imageio.imread('C:/my_own_picture/2828_my_own_6.png', as_gray = True)\n",
    "\n",
    "img_data = 255.0 - img_array.reshape(784)\n",
    "img_data = (img_data / 255.0 * 0.99) + 0.01\n",
    "\n",
    "print(\"min=\", numpy.min(img_data))\n",
    "print(\"max=\", numpy.max(img_data))\n",
    "\n",
    "matplotlib.pyplot.imshow(img_data.reshape(28, 28), cmap='Greys', interpolation='None')\n",
    "outputs = n.query(img_data)\n",
    "\n",
    "print(outputs)\n",
    "label = numpy.argmax(outputs)\n",
    "print(\"network says \", label)"
   ]
  },
  {
   "cell_type": "code",
   "execution_count": 42,
   "id": "fadaae36",
   "metadata": {},
   "outputs": [
    {
     "name": "stdout",
     "output_type": "stream",
     "text": [
      "loading ... my_own_picture/2828_my_own_5.pnge\n",
      "min= 0.01\n",
      "max= 1.0\n",
      "[[1.02479846e-04]\n",
      " [5.17761472e-04]\n",
      " [5.27956593e-05]\n",
      " [1.69793816e-03]\n",
      " [7.33292969e-03]\n",
      " [9.95935924e-01]\n",
      " [1.03594040e-04]\n",
      " [3.93322087e-03]\n",
      " [4.21824717e-06]\n",
      " [2.43333962e-03]]\n",
      "network says  5\n"
     ]
    },
    {
     "data": {
      "image/png": "[encoded data removed]",
      "text/plain": [
       "<Figure size 432x288 with 1 Axes>"
      ]
     },
     "metadata": {
      "needs_background": "light"
     },
     "output_type": "display_data"
    }
   ],
   "source": [
    "print(\"loading ... my_own_picture/2828_my_own_5.pnge\")\n",
    "\n",
    "img_array = imageio.imread('C:/my_own_picture/2828_my_own_5.png', as_gray = True)\n",
    "\n",
    "img_data = 255.0 - img_array.reshape(784)\n",
    "img_data = (img_data / 255.0 * 0.99) + 0.01\n",
    "\n",
    "print(\"min=\", numpy.min(img_data))\n",
    "print(\"max=\", numpy.max(img_data))\n",
    "\n",
    "matplotlib.pyplot.imshow(img_data.reshape(28, 28), cmap='Greys', interpolation='None')\n",
    "outputs = n.query(img_data)\n",
    "\n",
    "print(outputs)\n",
    "label = numpy.argmax(outputs)\n",
    "print(\"network says \", label)"
   ]
  },
  {
   "cell_type": "code",
   "execution_count": 43,
   "id": "7217dc5e",
   "metadata": {},
   "outputs": [
    {
     "name": "stdout",
     "output_type": "stream",
     "text": [
      "loading ... my_own_picture/2828_my_own_5.pnge\n",
      "min= 0.01\n",
      "max= 1.0\n",
      "[[6.57767360e-05]\n",
      " [1.29740767e-04]\n",
      " [8.21497772e-05]\n",
      " [6.75745983e-05]\n",
      " [1.10392509e-04]\n",
      " [9.97518497e-01]\n",
      " [1.40163209e-04]\n",
      " [6.17712374e-04]\n",
      " [5.26442159e-06]\n",
      " [9.74524201e-03]]\n",
      "network says  5\n"
     ]
    },
    {
     "data": {
      "image/png": "[encoded data removed]",
      "text/plain": [
       "<Figure size 432x288 with 1 Axes>"
      ]
     },
     "metadata": {
      "needs_background": "light"
     },
     "output_type": "display_data"
    }
   ],
   "source": [
    "print(\"loading ... my_own_picture/2828_my_own_5.pnge\")\n",
    "\n",
    "img_array = imageio.imread('C:/my_own_picture/2828_my_own_5.png', as_gray = True)\n",
    "\n",
    "img_data = 255.0 - img_array.reshape(784)\n",
    "img_data = (img_data / 255.0 * 0.99) + 0.01\n",
    "\n",
    "print(\"min=\", numpy.min(img_data))\n",
    "print(\"max=\", numpy.max(img_data))\n",
    "\n",
    "matplotlib.pyplot.imshow(img_data.reshape(28, 28), cmap='Greys', interpolation='None')\n",
    "outputs = n.query(img_data)\n",
    "\n",
    "print(outputs)\n",
    "label = numpy.argmax(outputs)\n",
    "print(\"network says \", label)"
   ]
  },
  {
   "cell_type": "code",
   "execution_count": 44,
   "id": "dff90505",
   "metadata": {},
   "outputs": [
    {
     "name": "stdout",
     "output_type": "stream",
     "text": [
      "loading ... my_own_picture/2828_my_own_8.pnge\n",
      "min= 0.01\n",
      "max= 1.0\n",
      "[[0.15490794]\n",
      " [0.06474695]\n",
      " [0.1436558 ]\n",
      " [0.20012052]\n",
      " [0.08835955]\n",
      " [0.03297032]\n",
      " [0.10063837]\n",
      " [0.15118424]\n",
      " [0.22538854]\n",
      " [0.15079769]]\n",
      "network says  8\n"
     ]
    },
    {
     "data": {
      "image/png": "[encoded data removed]",
      "text/plain": [
       "<Figure size 432x288 with 1 Axes>"
      ]
     },
     "metadata": {
      "needs_background": "light"
     },
     "output_type": "display_data"
    }
   ],
   "source": [
    "print(\"loading ... my_own_picture/2828_my_own_8.pnge\")\n",
    "\n",
    "img_array = imageio.imread('C:/my_own_picture/2828_my_own_8.png', as_gray = True)\n",
    "\n",
    "img_data = 255.0 - img_array.reshape(784)\n",
    "img_data = (img_data / 255.0 * 0.99) + 0.01\n",
    "\n",
    "print(\"min=\", numpy.min(img_data))\n",
    "print(\"max=\", numpy.max(img_data))\n",
    "\n",
    "matplotlib.pyplot.imshow(img_data.reshape(28, 28), cmap='Greys', interpolation='None')\n",
    "outputs = n.query(img_data)\n",
    "\n",
    "print(outputs)\n",
    "label = numpy.argmax(outputs)\n",
    "print(\"network says \", label)"
   ]
  },
  {
   "cell_type": "code",
   "execution_count": 45,
   "id": "80555423",
   "metadata": {},
   "outputs": [
    {
     "name": "stdout",
     "output_type": "stream",
     "text": [
      "loading ... my_own_picture/2828_my_own_7.pnge\n",
      "min= 0.01\n",
      "max= 1.0\n",
      "[[1.54913238e-03]\n",
      " [2.33779806e-01]\n",
      " [3.16967242e-02]\n",
      " [5.11976500e-01]\n",
      " [2.51280894e-04]\n",
      " [4.97790418e-03]\n",
      " [7.80251308e-04]\n",
      " [2.46754286e-03]\n",
      " [8.60549247e-05]\n",
      " [2.71503812e-04]]\n",
      "network says  3\n"
     ]
    },
    {
     "data": {
      "image/png": "[encoded data removed]",
      "text/plain": [
       "<Figure size 432x288 with 1 Axes>"
      ]
     },
     "metadata": {
      "needs_background": "light"
     },
     "output_type": "display_data"
    }
   ],
   "source": [
    "print(\"loading ... my_own_picture/2828_my_own_7.pnge\")\n",
    "\n",
    "img_array = imageio.imread('C:/my_own_picture/2828_my_own_7.png', as_gray = True)\n",
    "\n",
    "img_data = 255.0 - img_array.reshape(784)\n",
    "img_data = (img_data / 255.0 * 0.99) + 0.01\n",
    "\n",
    "print(\"min=\", numpy.min(img_data))\n",
    "print(\"max=\", numpy.max(img_data))\n",
    "\n",
    "matplotlib.pyplot.imshow(img_data.reshape(28, 28), cmap='Greys', interpolation='None')\n",
    "outputs = n.query(img_data)\n",
    "\n",
    "print(outputs)\n",
    "label = numpy.argmax(outputs)\n",
    "print(\"network says \", label)"
   ]
  },
  {
   "cell_type": "code",
   "execution_count": 46,
   "id": "94de7001",
   "metadata": {},
   "outputs": [
    {
     "name": "stdout",
     "output_type": "stream",
     "text": [
      "loading ... my_own_picture/2828_my_own_7.pnge\n",
      "min= 0.01\n",
      "max= 1.0\n",
      "[[3.73283087e-03]\n",
      " [1.24625433e-01]\n",
      " [7.24294468e-02]\n",
      " [1.20478147e-03]\n",
      " [9.28275017e-03]\n",
      " [7.98248832e-04]\n",
      " [8.32528531e-04]\n",
      " [8.44557107e-01]\n",
      " [9.54916855e-03]\n",
      " [3.07472474e-03]]\n",
      "network says  7\n"
     ]
    },
    {
     "data": {
      "image/png": "[encoded data removed]",
      "text/plain": [
       "<Figure size 432x288 with 1 Axes>"
      ]
     },
     "metadata": {
      "needs_background": "light"
     },
     "output_type": "display_data"
    }
   ],
   "source": [
    "print(\"loading ... my_own_picture/2828_my_own_7.pnge\")\n",
    "\n",
    "img_array = imageio.imread('C:/my_own_picture/2828_my_own_7.png', as_gray = True)\n",
    "\n",
    "img_data = 255.0 - img_array.reshape(784)\n",
    "img_data = (img_data / 255.0 * 0.99) + 0.01\n",
    "\n",
    "print(\"min=\", numpy.min(img_data))\n",
    "print(\"max=\", numpy.max(img_data))\n",
    "\n",
    "matplotlib.pyplot.imshow(img_data.reshape(28, 28), cmap='Greys', interpolation='None')\n",
    "outputs = n.query(img_data)\n",
    "\n",
    "print(outputs)\n",
    "label = numpy.argmax(outputs)\n",
    "print(\"network says \", label)"
   ]
  },
  {
   "cell_type": "code",
   "execution_count": 47,
   "id": "173b4032",
   "metadata": {},
   "outputs": [
    {
     "name": "stdout",
     "output_type": "stream",
     "text": [
      "loading ... my_own_picture/2828_my_own_9.pnge\n",
      "min= 0.01\n",
      "max= 1.0\n",
      "[[0.06445934]\n",
      " [0.04327572]\n",
      " [0.51046121]\n",
      " [0.07367388]\n",
      " [0.00883376]\n",
      " [0.01948927]\n",
      " [0.01727982]\n",
      " [0.24377789]\n",
      " [0.05666937]\n",
      " [0.03042153]]\n",
      "network says  2\n"
     ]
    },
    {
     "data": {
      "image/png": "[encoded data removed]",
      "text/plain": [
       "<Figure size 432x288 with 1 Axes>"
      ]
     },
     "metadata": {
      "needs_background": "light"
     },
     "output_type": "display_data"
    }
   ],
   "source": [
    "print(\"loading ... my_own_picture/2828_my_own_9.pnge\")\n",
    "\n",
    "img_array = imageio.imread('C:/my_own_picture/2828_my_own_9.png', as_gray = True)\n",
    "\n",
    "img_data = 255.0 - img_array.reshape(784)\n",
    "img_data = (img_data / 255.0 * 0.99) + 0.01\n",
    "\n",
    "print(\"min=\", numpy.min(img_data))\n",
    "print(\"max=\", numpy.max(img_data))\n",
    "\n",
    "matplotlib.pyplot.imshow(img_data.reshape(28, 28), cmap='Greys', interpolation='None')\n",
    "outputs = n.query(img_data)\n",
    "\n",
    "print(outputs)\n",
    "label = numpy.argmax(outputs)\n",
    "print(\"network says \", label)"
   ]
  },
  {
   "cell_type": "code",
   "execution_count": 48,
   "id": "d99003ec",
   "metadata": {},
   "outputs": [
    {
     "name": "stdout",
     "output_type": "stream",
     "text": [
      "loading ... my_own_picture/2828_my_own_9.pnge\n",
      "min= 0.01\n",
      "max= 1.0\n",
      "[[0.02199504]\n",
      " [0.03299445]\n",
      " [0.02783982]\n",
      " [0.8047187 ]\n",
      " [0.00834411]\n",
      " [0.08498597]\n",
      " [0.03071916]\n",
      " [0.15142841]\n",
      " [0.04903998]\n",
      " [0.02318672]]\n",
      "network says  3\n"
     ]
    },
    {
     "data": {
      "image/png": "[encoded data removed]",
      "text/plain": [
       "<Figure size 432x288 with 1 Axes>"
      ]
     },
     "metadata": {
      "needs_background": "light"
     },
     "output_type": "display_data"
    }
   ],
   "source": [
    "print(\"loading ... my_own_picture/2828_my_own_9.pnge\")\n",
    "\n",
    "img_array = imageio.imread('C:/my_own_picture/2828_my_own_9.png', as_gray = True)\n",
    "\n",
    "img_data = 255.0 - img_array.reshape(784)\n",
    "img_data = (img_data / 255.0 * 0.99) + 0.01\n",
    "\n",
    "print(\"min=\", numpy.min(img_data))\n",
    "print(\"max=\", numpy.max(img_data))\n",
    "\n",
    "matplotlib.pyplot.imshow(img_data.reshape(28, 28), cmap='Greys', interpolation='None')\n",
    "outputs = n.query(img_data)\n",
    "\n",
    "print(outputs)\n",
    "label = numpy.argmax(outputs)\n",
    "print(\"network says \", label)"
   ]
  },
  {
   "cell_type": "code",
   "execution_count": 49,
   "id": "74ee66b4",
   "metadata": {},
   "outputs": [
    {
     "name": "stdout",
     "output_type": "stream",
     "text": [
      "loading ... my_own_picture/2828_my_own_9.pnge\n",
      "min= 0.01\n",
      "max= 1.0\n",
      "[[0.03734309]\n",
      " [0.0471761 ]\n",
      " [0.01790454]\n",
      " [0.15246158]\n",
      " [0.01658399]\n",
      " [0.06408543]\n",
      " [0.17748288]\n",
      " [0.18649457]\n",
      " [0.01361116]\n",
      " [0.27567567]]\n",
      "network says  9\n"
     ]
    },
    {
     "data": {
      "image/png": "[encoded data removed]",
      "text/plain": [
       "<Figure size 432x288 with 1 Axes>"
      ]
     },
     "metadata": {
      "needs_background": "light"
     },
     "output_type": "display_data"
    }
   ],
   "source": [
    "print(\"loading ... my_own_picture/2828_my_own_9.pnge\")\n",
    "\n",
    "img_array = imageio.imread('C:/my_own_picture/2828_my_own_9.png', as_gray = True)\n",
    "\n",
    "img_data = 255.0 - img_array.reshape(784)\n",
    "img_data = (img_data / 255.0 * 0.99) + 0.01\n",
    "\n",
    "print(\"min=\", numpy.min(img_data))\n",
    "print(\"max=\", numpy.max(img_data))\n",
    "\n",
    "matplotlib.pyplot.imshow(img_data.reshape(28, 28), cmap='Greys', interpolation='None')\n",
    "outputs = n.query(img_data)\n",
    "\n",
    "print(outputs)\n",
    "label = numpy.argmax(outputs)\n",
    "print(\"network says \", label)"
   ]
  },
  {
   "cell_type": "code",
   "execution_count": 50,
   "id": "85e286ad",
   "metadata": {},
   "outputs": [
    {
     "name": "stdout",
     "output_type": "stream",
     "text": [
      "loading ... my_own_picture/2828_my_own_0.pnge\n",
      "min= 0.01\n",
      "max= 1.0\n",
      "[[0.63027171]\n",
      " [0.02600472]\n",
      " [0.00313776]\n",
      " [0.05428975]\n",
      " [0.0443004 ]\n",
      " [0.01309446]\n",
      " [0.01038403]\n",
      " [0.13474561]\n",
      " [0.01760044]\n",
      " [0.10962813]]\n",
      "network says  0\n"
     ]
    },
    {
     "data": {
      "image/png": "[encoded data removed]",
      "text/plain": [
       "<Figure size 432x288 with 1 Axes>"
      ]
     },
     "metadata": {
      "needs_background": "light"
     },
     "output_type": "display_data"
    }
   ],
   "source": [
    "print(\"loading ... my_own_picture/2828_my_own_0.pnge\")\n",
    "\n",
    "img_array = imageio.imread('C:/my_own_picture/2828_my_own_0.png', as_gray = True)\n",
    "\n",
    "img_data = 255.0 - img_array.reshape(784)\n",
    "img_data = (img_data / 255.0 * 0.99) + 0.01\n",
    "\n",
    "print(\"min=\", numpy.min(img_data))\n",
    "print(\"max=\", numpy.max(img_data))\n",
    "\n",
    "matplotlib.pyplot.imshow(img_data.reshape(28, 28), cmap='Greys', interpolation='None')\n",
    "outputs = n.query(img_data)\n",
    "\n",
    "print(outputs)\n",
    "label = numpy.argmax(outputs)\n",
    "print(\"network says \", label)"
   ]
  },
  {
   "cell_type": "code",
   "execution_count": 51,
   "id": "f9563fa1",
   "metadata": {},
   "outputs": [
    {
     "name": "stdout",
     "output_type": "stream",
     "text": [
      "loading ... my_own_picture/2828_my_own_6.pnge\n",
      "min= 0.01\n",
      "max= 1.0\n",
      "[[0.16402208]\n",
      " [0.17405561]\n",
      " [0.16020218]\n",
      " [0.29009898]\n",
      " [0.20632197]\n",
      " [0.40312438]\n",
      " [0.251388  ]\n",
      " [0.17460499]\n",
      " [0.13594939]\n",
      " [0.15923695]]\n",
      "network says  5\n"
     ]
    },
    {
     "data": {
      "image/png": "[encoded data removed]",
      "text/plain": [
       "<Figure size 432x288 with 1 Axes>"
      ]
     },
     "metadata": {
      "needs_background": "light"
     },
     "output_type": "display_data"
    }
   ],
   "source": [
    "print(\"loading ... my_own_picture/2828_my_own_6.pnge\")\n",
    "\n",
    "img_array = imageio.imread('C:/my_own_picture/2828_my_own_6.png', as_gray = True)\n",
    "\n",
    "img_data = 255.0 - img_array.reshape(784)\n",
    "img_data = (img_data / 255.0 * 0.99) + 0.01\n",
    "\n",
    "print(\"min=\", numpy.min(img_data))\n",
    "print(\"max=\", numpy.max(img_data))\n",
    "\n",
    "matplotlib.pyplot.imshow(img_data.reshape(28, 28), cmap='Greys', interpolation='None')\n",
    "outputs = n.query(img_data)\n",
    "\n",
    "print(outputs)\n",
    "label = numpy.argmax(outputs)\n",
    "print(\"network says \", label)"
   ]
  },
  {
   "cell_type": "code",
   "execution_count": 52,
   "id": "102fc693",
   "metadata": {},
   "outputs": [
    {
     "name": "stdout",
     "output_type": "stream",
     "text": [
      "loading ... my_own_picture/2828_my_own_9.pnge\n",
      "min= 0.01\n",
      "max= 1.0\n",
      "[[0.03734309]\n",
      " [0.0471761 ]\n",
      " [0.01790454]\n",
      " [0.15246158]\n",
      " [0.01658399]\n",
      " [0.06408543]\n",
      " [0.17748288]\n",
      " [0.18649457]\n",
      " [0.01361116]\n",
      " [0.27567567]]\n",
      "network says  9\n"
     ]
    },
    {
     "data": {
      "image/png": "[encoded data removed]",
      "text/plain": [
       "<Figure size 432x288 with 1 Axes>"
      ]
     },
     "metadata": {
      "needs_background": "light"
     },
     "output_type": "display_data"
    }
   ],
   "source": [
    "print(\"loading ... my_own_picture/2828_my_own_9.pnge\")\n",
    "\n",
    "img_array = imageio.imread('C:/my_own_picture/2828_my_own_9.png', as_gray = True)\n",
    "\n",
    "img_data = 255.0 - img_array.reshape(784)\n",
    "img_data = (img_data / 255.0 * 0.99) + 0.01\n",
    "\n",
    "print(\"min=\", numpy.min(img_data))\n",
    "print(\"max=\", numpy.max(img_data))\n",
    "\n",
    "matplotlib.pyplot.imshow(img_data.reshape(28, 28), cmap='Greys', interpolation='None')\n",
    "outputs = n.query(img_data)\n",
    "\n",
    "print(outputs)\n",
    "label = numpy.argmax(outputs)\n",
    "print(\"network says \", label)"
   ]
  },
  {
   "cell_type": "code",
   "execution_count": 53,
   "id": "45b59114",
   "metadata": {},
   "outputs": [
    {
     "name": "stdout",
     "output_type": "stream",
     "text": [
      "loading ... my_own_picture/2828_my_own_6.pnge\n",
      "min= 0.01\n",
      "max= 1.0\n",
      "[[0.19418818]\n",
      " [0.20615046]\n",
      " [0.16276125]\n",
      " [0.19340894]\n",
      " [0.19283253]\n",
      " [0.67985638]\n",
      " [0.26574729]\n",
      " [0.19821356]\n",
      " [0.09068291]\n",
      " [0.08852855]]\n",
      "network says  5\n"
     ]
    },
    {
     "data": {
      "image/png": "[encoded data removed]",
      "text/plain": [
       "<Figure size 432x288 with 1 Axes>"
      ]
     },
     "metadata": {
      "needs_background": "light"
     },
     "output_type": "display_data"
    }
   ],
   "source": [
    "print(\"loading ... my_own_picture/2828_my_own_6.pnge\")\n",
    "\n",
    "img_array = imageio.imread('C:/my_own_picture/2828_my_own_6.png', as_gray = True)\n",
    "\n",
    "img_data = 255.0 - img_array.reshape(784)\n",
    "img_data = (img_data / 255.0 * 0.99) + 0.01\n",
    "\n",
    "print(\"min=\", numpy.min(img_data))\n",
    "print(\"max=\", numpy.max(img_data))\n",
    "\n",
    "matplotlib.pyplot.imshow(img_data.reshape(28, 28), cmap='Greys', interpolation='None')\n",
    "outputs = n.query(img_data)\n",
    "\n",
    "print(outputs)\n",
    "label = numpy.argmax(outputs)\n",
    "print(\"network says \", label)"
   ]
  },
  {
   "cell_type": "code",
   "execution_count": 54,
   "id": "95ab8f9b",
   "metadata": {},
   "outputs": [
    {
     "name": "stdout",
     "output_type": "stream",
     "text": [
      "loading ... my_own_picture/2828_my_own_6.pnge\n",
      "min= 0.01\n",
      "max= 1.0\n",
      "[[0.04636881]\n",
      " [0.04756522]\n",
      " [0.04500021]\n",
      " [0.03012938]\n",
      " [0.13632263]\n",
      " [0.88896694]\n",
      " [0.06329612]\n",
      " [0.07563131]\n",
      " [0.17436126]\n",
      " [0.14031621]]\n",
      "network says  5\n"
     ]
    },
    {
     "data": {
      "image/png": "[encoded data removed]",
      "text/plain": [
       "<Figure size 432x288 with 1 Axes>"
      ]
     },
     "metadata": {
      "needs_background": "light"
     },
     "output_type": "display_data"
    }
   ],
   "source": [
    "print(\"loading ... my_own_picture/2828_my_own_6.pnge\")\n",
    "\n",
    "img_array = imageio.imread('C:/my_own_picture/2828_my_own_6.png', as_gray = True)\n",
    "\n",
    "img_data = 255.0 - img_array.reshape(784)\n",
    "img_data = (img_data / 255.0 * 0.99) + 0.01\n",
    "\n",
    "print(\"min=\", numpy.min(img_data))\n",
    "print(\"max=\", numpy.max(img_data))\n",
    "\n",
    "matplotlib.pyplot.imshow(img_data.reshape(28, 28), cmap='Greys', interpolation='None')\n",
    "outputs = n.query(img_data)\n",
    "\n",
    "print(outputs)\n",
    "label = numpy.argmax(outputs)\n",
    "print(\"network says \", label)"
   ]
  },
  {
   "cell_type": "code",
   "execution_count": 55,
   "id": "4d45523d",
   "metadata": {},
   "outputs": [
    {
     "name": "stdout",
     "output_type": "stream",
     "text": [
      "loading ... my_own_picture/2828_my_own_6.pnge\n",
      "min= 0.01\n",
      "max= 1.0\n",
      "[[0.04427399]\n",
      " [0.0589137 ]\n",
      " [0.06195965]\n",
      " [0.09409025]\n",
      " [0.16813283]\n",
      " [0.30376881]\n",
      " [0.17153228]\n",
      " [0.10578782]\n",
      " [0.0835111 ]\n",
      " [0.02518214]]\n",
      "network says  5\n"
     ]
    },
    {
     "data": {
      "image/png": "[encoded data removed]",
      "text/plain": [
       "<Figure size 432x288 with 1 Axes>"
      ]
     },
     "metadata": {
      "needs_background": "light"
     },
     "output_type": "display_data"
    }
   ],
   "source": [
    "print(\"loading ... my_own_picture/2828_my_own_6.pnge\")\n",
    "\n",
    "img_array = imageio.imread('C:/my_own_picture/2828_my_own_6.png', as_gray = True)\n",
    "\n",
    "img_data = 255.0 - img_array.reshape(784)\n",
    "img_data = (img_data / 255.0 * 0.99) + 0.01\n",
    "\n",
    "print(\"min=\", numpy.min(img_data))\n",
    "print(\"max=\", numpy.max(img_data))\n",
    "\n",
    "matplotlib.pyplot.imshow(img_data.reshape(28, 28), cmap='Greys', interpolation='None')\n",
    "outputs = n.query(img_data)\n",
    "\n",
    "print(outputs)\n",
    "label = numpy.argmax(outputs)\n",
    "print(\"network says \", label)"
   ]
  },
  {
   "cell_type": "code",
   "execution_count": 56,
   "id": "5ff5a6b9",
   "metadata": {},
   "outputs": [
    {
     "name": "stdout",
     "output_type": "stream",
     "text": [
      "loading ... my_own_picture/2828_my_own_6.pnge\n",
      "min= 0.01\n",
      "max= 1.0\n",
      "[[1.00642699e-03]\n",
      " [3.20032726e-03]\n",
      " [6.75995725e-03]\n",
      " [2.48509620e-04]\n",
      " [9.79026617e-05]\n",
      " [6.93869305e-01]\n",
      " [1.32597685e-01]\n",
      " [9.86156782e-02]\n",
      " [2.40232814e-03]\n",
      " [1.27458673e-01]]\n",
      "network says  5\n"
     ]
    },
    {
     "data": {
      "image/png": "[encoded data removed]",
      "text/plain": [
       "<Figure size 432x288 with 1 Axes>"
      ]
     },
     "metadata": {
      "needs_background": "light"
     },
     "output_type": "display_data"
    }
   ],
   "source": [
    "print(\"loading ... my_own_picture/2828_my_own_6.pnge\")\n",
    "\n",
    "img_array = imageio.imread('C:/my_own_picture/2828_my_own_6.png', as_gray = True)\n",
    "\n",
    "img_data = 255.0 - img_array.reshape(784)\n",
    "img_data = (img_data / 255.0 * 0.99) + 0.01\n",
    "\n",
    "print(\"min=\", numpy.min(img_data))\n",
    "print(\"max=\", numpy.max(img_data))\n",
    "\n",
    "matplotlib.pyplot.imshow(img_data.reshape(28, 28), cmap='Greys', interpolation='None')\n",
    "outputs = n.query(img_data)\n",
    "\n",
    "print(outputs)\n",
    "label = numpy.argmax(outputs)\n",
    "print(\"network says \", label)"
   ]
  },
  {
   "cell_type": "code",
   "execution_count": 57,
   "id": "fc7a7e4a",
   "metadata": {},
   "outputs": [
    {
     "name": "stdout",
     "output_type": "stream",
     "text": [
      "loading ... my_own_picture/2828_my_own_6.pnge\n",
      "min= 0.01\n",
      "max= 1.0\n",
      "[[0.02372618]\n",
      " [0.06068386]\n",
      " [0.43073109]\n",
      " [0.01119735]\n",
      " [0.00788637]\n",
      " [0.62127042]\n",
      " [0.0347142 ]\n",
      " [0.21723876]\n",
      " [0.03933798]\n",
      " [0.13392411]]\n",
      "network says  5\n"
     ]
    },
    {
     "data": {
      "image/png": "[encoded data removed]",
      "text/plain": [
       "<Figure size 432x288 with 1 Axes>"
      ]
     },
     "metadata": {
      "needs_background": "light"
     },
     "output_type": "display_data"
    }
   ],
   "source": [
    "print(\"loading ... my_own_picture/2828_my_own_6.pnge\")\n",
    "\n",
    "img_array = imageio.imread('C:/my_own_picture/2828_my_own_6.png', as_gray = True)\n",
    "\n",
    "img_data = 255.0 - img_array.reshape(784)\n",
    "img_data = (img_data / 255.0 * 0.99) + 0.01\n",
    "\n",
    "print(\"min=\", numpy.min(img_data))\n",
    "print(\"max=\", numpy.max(img_data))\n",
    "\n",
    "matplotlib.pyplot.imshow(img_data.reshape(28, 28), cmap='Greys', interpolation='None')\n",
    "outputs = n.query(img_data)\n",
    "\n",
    "print(outputs)\n",
    "label = numpy.argmax(outputs)\n",
    "print(\"network says \", label)"
   ]
  },
  {
   "cell_type": "code",
   "execution_count": 58,
   "id": "b6f60631",
   "metadata": {},
   "outputs": [
    {
     "name": "stdout",
     "output_type": "stream",
     "text": [
      "loading ... my_own_picture/2828_my_own_6.pnge\n",
      "min= 0.01\n",
      "max= 1.0\n",
      "[[0.24878735]\n",
      " [0.33487061]\n",
      " [0.20407997]\n",
      " [0.03269304]\n",
      " [0.22150348]\n",
      " [0.99840062]\n",
      " [0.19388843]\n",
      " [0.25873111]\n",
      " [0.03447959]\n",
      " [0.05273645]]\n",
      "network says  5\n"
     ]
    },
    {
     "data": {
      "image/png": "[encoded data removed]",
      "text/plain": [
       "<Figure size 432x288 with 1 Axes>"
      ]
     },
     "metadata": {
      "needs_background": "light"
     },
     "output_type": "display_data"
    }
   ],
   "source": [
    "print(\"loading ... my_own_picture/2828_my_own_6.pnge\")\n",
    "\n",
    "img_array = imageio.imread('C:/my_own_picture/2828_my_own_6.png', as_gray = True)\n",
    "\n",
    "img_data = 255.0 - img_array.reshape(784)\n",
    "img_data = (img_data / 255.0 * 0.99) + 0.01\n",
    "\n",
    "print(\"min=\", numpy.min(img_data))\n",
    "print(\"max=\", numpy.max(img_data))\n",
    "\n",
    "matplotlib.pyplot.imshow(img_data.reshape(28, 28), cmap='Greys', interpolation='None')\n",
    "outputs = n.query(img_data)\n",
    "\n",
    "print(outputs)\n",
    "label = numpy.argmax(outputs)\n",
    "print(\"network says \", label)"
   ]
  },
  {
   "cell_type": "code",
   "execution_count": 59,
   "id": "d4b76389",
   "metadata": {},
   "outputs": [
    {
     "name": "stdout",
     "output_type": "stream",
     "text": [
      "loading ... my_own_picture/2828_my_own_6.pnge\n",
      "min= 0.01\n",
      "max= 1.0\n",
      "[[4.56712578e-02]\n",
      " [4.17563508e-02]\n",
      " [7.05688344e-04]\n",
      " [8.82016836e-04]\n",
      " [1.14270758e-01]\n",
      " [9.63853336e-01]\n",
      " [2.61428013e-02]\n",
      " [1.62317588e-01]\n",
      " [9.63440187e-04]\n",
      " [1.12263219e-01]]\n",
      "network says  5\n"
     ]
    },
    {
     "data": {
      "image/png": "[encoded data removed]",
      "text/plain": [
       "<Figure size 432x288 with 1 Axes>"
      ]
     },
     "metadata": {
      "needs_background": "light"
     },
     "output_type": "display_data"
    }
   ],
   "source": [
    "print(\"loading ... my_own_picture/2828_my_own_6.pnge\")\n",
    "\n",
    "img_array = imageio.imread('C:/my_own_picture/2828_my_own_6.png', as_gray = True)\n",
    "\n",
    "img_data = 255.0 - img_array.reshape(784)\n",
    "img_data = (img_data / 255.0 * 0.99) + 0.01\n",
    "\n",
    "print(\"min=\", numpy.min(img_data))\n",
    "print(\"max=\", numpy.max(img_data))\n",
    "\n",
    "matplotlib.pyplot.imshow(img_data.reshape(28, 28), cmap='Greys', interpolation='None')\n",
    "outputs = n.query(img_data)\n",
    "\n",
    "print(outputs)\n",
    "label = numpy.argmax(outputs)\n",
    "print(\"network says \", label)"
   ]
  },
  {
   "cell_type": "code",
   "execution_count": 60,
   "id": "8d3c48b2",
   "metadata": {},
   "outputs": [
    {
     "name": "stdout",
     "output_type": "stream",
     "text": [
      "loading ... my_own_picture/2828_my_own_6.pnge\n",
      "min= 0.01\n",
      "max= 1.0\n",
      "[[0.06257172]\n",
      " [0.08959971]\n",
      " [0.06419535]\n",
      " [0.08064518]\n",
      " [0.0442359 ]\n",
      " [0.32239097]\n",
      " [0.08363609]\n",
      " [0.11231454]\n",
      " [0.04162383]\n",
      " [0.02988556]]\n",
      "network says  5\n"
     ]
    },
    {
     "data": {
      "image/png": "[encoded data removed]",
      "text/plain": [
       "<Figure size 432x288 with 1 Axes>"
      ]
     },
     "metadata": {
      "needs_background": "light"
     },
     "output_type": "display_data"
    }
   ],
   "source": [
    "print(\"loading ... my_own_picture/2828_my_own_6.pnge\")\n",
    "\n",
    "img_array = imageio.imread('C:/my_own_picture/2828_my_own_6.png', as_gray = True)\n",
    "\n",
    "img_data = 255.0 - img_array.reshape(784)\n",
    "img_data = (img_data / 255.0 * 0.99) + 0.01\n",
    "\n",
    "print(\"min=\", numpy.min(img_data))\n",
    "print(\"max=\", numpy.max(img_data))\n",
    "\n",
    "matplotlib.pyplot.imshow(img_data.reshape(28, 28), cmap='Greys', interpolation='None')\n",
    "outputs = n.query(img_data)\n",
    "\n",
    "print(outputs)\n",
    "label = numpy.argmax(outputs)\n",
    "print(\"network says \", label)"
   ]
  },
  {
   "cell_type": "code",
   "execution_count": 61,
   "id": "ea927a62",
   "metadata": {},
   "outputs": [
    {
     "name": "stdout",
     "output_type": "stream",
     "text": [
      "loading ... my_own_picture/2828_my_own_6.pnge\n",
      "min= 0.01\n",
      "max= 1.0\n",
      "[[0.00227139]\n",
      " [0.01144888]\n",
      " [0.03334136]\n",
      " [0.21638316]\n",
      " [0.00744649]\n",
      " [0.04284295]\n",
      " [0.09998068]\n",
      " [0.03212108]\n",
      " [0.43412843]\n",
      " [0.0010464 ]]\n",
      "network says  8\n"
     ]
    },
    {
     "data": {
      "image/png": "[encoded data removed]",
      "text/plain": [
       "<Figure size 432x288 with 1 Axes>"
      ]
     },
     "metadata": {
      "needs_background": "light"
     },
     "output_type": "display_data"
    }
   ],
   "source": [
    "print(\"loading ... my_own_picture/2828_my_own_6.pnge\")\n",
    "\n",
    "img_array = imageio.imread('C:/my_own_picture/2828_my_own_6.png', as_gray = True)\n",
    "\n",
    "img_data = 255.0 - img_array.reshape(784)\n",
    "img_data = (img_data / 255.0 * 0.99) + 0.01\n",
    "\n",
    "print(\"min=\", numpy.min(img_data))\n",
    "print(\"max=\", numpy.max(img_data))\n",
    "\n",
    "matplotlib.pyplot.imshow(img_data.reshape(28, 28), cmap='Greys', interpolation='None')\n",
    "outputs = n.query(img_data)\n",
    "\n",
    "print(outputs)\n",
    "label = numpy.argmax(outputs)\n",
    "print(\"network says \", label)"
   ]
  },
  {
   "cell_type": "code",
   "execution_count": 62,
   "id": "60a56423",
   "metadata": {},
   "outputs": [
    {
     "name": "stdout",
     "output_type": "stream",
     "text": [
      "loading ... my_own_picture/2828_my_own_6.pnge\n",
      "min= 0.01\n",
      "max= 1.0\n",
      "[[0.01448767]\n",
      " [0.06413451]\n",
      " [0.03118186]\n",
      " [0.04969734]\n",
      " [0.01614867]\n",
      " [0.02276537]\n",
      " [0.04028983]\n",
      " [0.03750892]\n",
      " [0.34184874]\n",
      " [0.00407768]]\n",
      "network says  8\n"
     ]
    },
    {
     "data": {
      "image/png": "[encoded data removed]",
      "text/plain": [
       "<Figure size 432x288 with 1 Axes>"
      ]
     },
     "metadata": {
      "needs_background": "light"
     },
     "output_type": "display_data"
    }
   ],
   "source": [
    "print(\"loading ... my_own_picture/2828_my_own_6.pnge\")\n",
    "\n",
    "img_array = imageio.imread('C:/my_own_picture/2828_my_own_6.png', as_gray = True)\n",
    "\n",
    "img_data = 255.0 - img_array.reshape(784)\n",
    "img_data = (img_data / 255.0 * 0.99) + 0.01\n",
    "\n",
    "print(\"min=\", numpy.min(img_data))\n",
    "print(\"max=\", numpy.max(img_data))\n",
    "\n",
    "matplotlib.pyplot.imshow(img_data.reshape(28, 28), cmap='Greys', interpolation='None')\n",
    "outputs = n.query(img_data)\n",
    "\n",
    "print(outputs)\n",
    "label = numpy.argmax(outputs)\n",
    "print(\"network says \", label)"
   ]
  },
  {
   "cell_type": "code",
   "execution_count": 63,
   "id": "a8ef9b47",
   "metadata": {},
   "outputs": [
    {
     "name": "stdout",
     "output_type": "stream",
     "text": [
      "loading ... my_own_picture/2828_my_own_6.pnge\n",
      "min= 0.01\n",
      "max= 1.0\n",
      "[[0.09253727]\n",
      " [0.05846315]\n",
      " [0.11779945]\n",
      " [0.19152649]\n",
      " [0.08029048]\n",
      " [0.04675314]\n",
      " [0.1207436 ]\n",
      " [0.14018592]\n",
      " [0.27275321]\n",
      " [0.12443111]]\n",
      "network says  8\n"
     ]
    },
    {
     "data": {
      "image/png": "[encoded data removed]",
      "text/plain": [
       "<Figure size 432x288 with 1 Axes>"
      ]
     },
     "metadata": {
      "needs_background": "light"
     },
     "output_type": "display_data"
    }
   ],
   "source": [
    "print(\"loading ... my_own_picture/2828_my_own_6.pnge\")\n",
    "\n",
    "img_array = imageio.imread('C:/my_own_picture/2828_my_own_6.png', as_gray = True)\n",
    "\n",
    "img_data = 255.0 - img_array.reshape(784)\n",
    "img_data = (img_data / 255.0 * 0.99) + 0.01\n",
    "\n",
    "print(\"min=\", numpy.min(img_data))\n",
    "print(\"max=\", numpy.max(img_data))\n",
    "\n",
    "matplotlib.pyplot.imshow(img_data.reshape(28, 28), cmap='Greys', interpolation='None')\n",
    "outputs = n.query(img_data)\n",
    "\n",
    "print(outputs)\n",
    "label = numpy.argmax(outputs)\n",
    "print(\"network says \", label)"
   ]
  },
  {
   "cell_type": "code",
   "execution_count": 64,
   "id": "091860c6",
   "metadata": {},
   "outputs": [
    {
     "name": "stdout",
     "output_type": "stream",
     "text": [
      "loading ... my_own_picture/2828_my_own_6.pnge\n",
      "min= 0.01\n",
      "max= 1.0\n",
      "[[0.0559792 ]\n",
      " [0.05221332]\n",
      " [0.07281263]\n",
      " [0.11036094]\n",
      " [0.07790186]\n",
      " [0.03630401]\n",
      " [0.23575049]\n",
      " [0.2125687 ]\n",
      " [0.14300326]\n",
      " [0.18692607]]\n",
      "network says  6\n"
     ]
    },
    {
     "data": {
      "image/png": "[encoded data removed]",
      "text/plain": [
       "<Figure size 432x288 with 1 Axes>"
      ]
     },
     "metadata": {
      "needs_background": "light"
     },
     "output_type": "display_data"
    }
   ],
   "source": [
    "print(\"loading ... my_own_picture/2828_my_own_6.pnge\")\n",
    "\n",
    "img_array = imageio.imread('C:/my_own_picture/2828_my_own_6.png', as_gray = True)\n",
    "\n",
    "img_data = 255.0 - img_array.reshape(784)\n",
    "img_data = (img_data / 255.0 * 0.99) + 0.01\n",
    "\n",
    "print(\"min=\", numpy.min(img_data))\n",
    "print(\"max=\", numpy.max(img_data))\n",
    "\n",
    "matplotlib.pyplot.imshow(img_data.reshape(28, 28), cmap='Greys', interpolation='None')\n",
    "outputs = n.query(img_data)\n",
    "\n",
    "print(outputs)\n",
    "label = numpy.argmax(outputs)\n",
    "print(\"network says \", label)"
   ]
  },
  {
   "cell_type": "code",
   "execution_count": 65,
   "id": "3963242c",
   "metadata": {},
   "outputs": [
    {
     "name": "stdout",
     "output_type": "stream",
     "text": [
      "loading ... my_own_picture/2828_my_own_0.pnge\n",
      "min= 0.01\n",
      "max= 1.0\n",
      "[[0.63027171]\n",
      " [0.02600472]\n",
      " [0.00313776]\n",
      " [0.05428975]\n",
      " [0.0443004 ]\n",
      " [0.01309446]\n",
      " [0.01038403]\n",
      " [0.13474561]\n",
      " [0.01760044]\n",
      " [0.10962813]]\n",
      "network says  0\n"
     ]
    },
    {
     "data": {
      "image/png": "[encoded data removed]",
      "text/plain": [
       "<Figure size 432x288 with 1 Axes>"
      ]
     },
     "metadata": {
      "needs_background": "light"
     },
     "output_type": "display_data"
    }
   ],
   "source": [
    "print(\"loading ... my_own_picture/2828_my_own_0.pnge\")\n",
    "\n",
    "img_array = imageio.imread('C:/my_own_picture/2828_my_own_0.png', as_gray = True)\n",
    "\n",
    "img_data = 255.0 - img_array.reshape(784)\n",
    "img_data = (img_data / 255.0 * 0.99) + 0.01\n",
    "\n",
    "print(\"min=\", numpy.min(img_data))\n",
    "print(\"max=\", numpy.max(img_data))\n",
    "\n",
    "matplotlib.pyplot.imshow(img_data.reshape(28, 28), cmap='Greys', interpolation='None')\n",
    "outputs = n.query(img_data)\n",
    "\n",
    "print(outputs)\n",
    "label = numpy.argmax(outputs)\n",
    "print(\"network says \", label)"
   ]
  },
  {
   "cell_type": "code",
   "execution_count": 66,
   "id": "7c6945d6",
   "metadata": {},
   "outputs": [
    {
     "name": "stdout",
     "output_type": "stream",
     "text": [
      "loading ... my_own_picture/2828_my_own_1.pnge\n",
      "min= 0.01\n",
      "max= 1.0\n",
      "[[8.65685299e-04]\n",
      " [8.80375755e-01]\n",
      " [4.49646479e-03]\n",
      " [4.68036008e-02]\n",
      " [3.45493220e-05]\n",
      " [8.47195280e-04]\n",
      " [3.65152276e-04]\n",
      " [6.82266350e-04]\n",
      " [8.87734272e-04]\n",
      " [1.44104896e-03]]\n",
      "network says  1\n"
     ]
    },
    {
     "data": {
      "image/png": "[encoded data removed]",
      "text/plain": [
       "<Figure size 432x288 with 1 Axes>"
      ]
     },
     "metadata": {
      "needs_background": "light"
     },
     "output_type": "display_data"
    }
   ],
   "source": [
    "print(\"loading ... my_own_picture/2828_my_own_1.pnge\")\n",
    "\n",
    "img_array = imageio.imread('C:/my_own_picture/2828_my_own_1.png', as_gray = True)\n",
    "\n",
    "img_data = 255.0 - img_array.reshape(784)\n",
    "img_data = (img_data / 255.0 * 0.99) + 0.01\n",
    "\n",
    "print(\"min=\", numpy.min(img_data))\n",
    "print(\"max=\", numpy.max(img_data))\n",
    "\n",
    "matplotlib.pyplot.imshow(img_data.reshape(28, 28), cmap='Greys', interpolation='None')\n",
    "outputs = n.query(img_data)\n",
    "\n",
    "print(outputs)\n",
    "label = numpy.argmax(outputs)\n",
    "print(\"network says \", label)"
   ]
  },
  {
   "cell_type": "code",
   "execution_count": 67,
   "id": "e649c08b",
   "metadata": {},
   "outputs": [
    {
     "name": "stdout",
     "output_type": "stream",
     "text": [
      "loading ... my_own_picture/2828_my_own_2.pnge\n",
      "min= 0.01\n",
      "max= 1.0\n",
      "[[2.02198649e-05]\n",
      " [7.60124998e-04]\n",
      " [9.98582977e-01]\n",
      " [2.82259372e-06]\n",
      " [3.86286815e-04]\n",
      " [4.17023725e-02]\n",
      " [3.76969253e-04]\n",
      " [1.22060090e-03]\n",
      " [3.46470102e-06]\n",
      " [6.45477396e-03]]\n",
      "network says  2\n"
     ]
    },
    {
     "data": {
      "image/png": "[encoded data removed]",
      "text/plain": [
       "<Figure size 432x288 with 1 Axes>"
      ]
     },
     "metadata": {
      "needs_background": "light"
     },
     "output_type": "display_data"
    }
   ],
   "source": [
    "print(\"loading ... my_own_picture/2828_my_own_2.pnge\")\n",
    "\n",
    "img_array = imageio.imread('C:/my_own_picture/2828_my_own_2.png', as_gray = True)\n",
    "\n",
    "img_data = 255.0 - img_array.reshape(784)\n",
    "img_data = (img_data / 255.0 * 0.99) + 0.01\n",
    "\n",
    "print(\"min=\", numpy.min(img_data))\n",
    "print(\"max=\", numpy.max(img_data))\n",
    "\n",
    "matplotlib.pyplot.imshow(img_data.reshape(28, 28), cmap='Greys', interpolation='None')\n",
    "outputs = n.query(img_data)\n",
    "\n",
    "print(outputs)\n",
    "label = numpy.argmax(outputs)\n",
    "print(\"network says \", label)"
   ]
  },
  {
   "cell_type": "code",
   "execution_count": 68,
   "id": "421c583e",
   "metadata": {},
   "outputs": [
    {
     "name": "stdout",
     "output_type": "stream",
     "text": [
      "loading ... my_own_picture/2828_my_own_3.pnge\n",
      "min= 0.01\n",
      "max= 1.0\n",
      "[[0.00266916]\n",
      " [0.02067836]\n",
      " [0.01231975]\n",
      " [0.89232489]\n",
      " [0.00643798]\n",
      " [0.01614216]\n",
      " [0.09535686]\n",
      " [0.00673278]\n",
      " [0.01103306]\n",
      " [0.00250761]]\n",
      "network says  3\n"
     ]
    },
    {
     "data": {
      "image/png": "[encoded data removed]",
      "text/plain": [
       "<Figure size 432x288 with 1 Axes>"
      ]
     },
     "metadata": {
      "needs_background": "light"
     },
     "output_type": "display_data"
    }
   ],
   "source": [
    "print(\"loading ... my_own_picture/2828_my_own_3.pnge\")\n",
    "\n",
    "img_array = imageio.imread('C:/my_own_picture/2828_my_own_3.png', as_gray = True)\n",
    "\n",
    "img_data = 255.0 - img_array.reshape(784)\n",
    "img_data = (img_data / 255.0 * 0.99) + 0.01\n",
    "\n",
    "print(\"min=\", numpy.min(img_data))\n",
    "print(\"max=\", numpy.max(img_data))\n",
    "\n",
    "matplotlib.pyplot.imshow(img_data.reshape(28, 28), cmap='Greys', interpolation='None')\n",
    "outputs = n.query(img_data)\n",
    "\n",
    "print(outputs)\n",
    "label = numpy.argmax(outputs)\n",
    "print(\"network says \", label)"
   ]
  },
  {
   "cell_type": "code",
   "execution_count": 69,
   "id": "2c20587b",
   "metadata": {},
   "outputs": [
    {
     "name": "stdout",
     "output_type": "stream",
     "text": [
      "loading ... my_own_picture/2828_my_own_4.pnge\n",
      "min= 0.01\n",
      "max= 1.0\n",
      "[[2.68414010e-03]\n",
      " [3.36268103e-03]\n",
      " [7.32530341e-03]\n",
      " [6.36129164e-04]\n",
      " [9.99719474e-01]\n",
      " [1.79025585e-02]\n",
      " [5.09140023e-04]\n",
      " [1.10066972e-02]\n",
      " [3.41694935e-03]\n",
      " [3.72149785e-04]]\n",
      "network says  4\n"
     ]
    },
    {
     "data": {
      "image/png": "[encoded data removed]",
      "text/plain": [
       "<Figure size 432x288 with 1 Axes>"
      ]
     },
     "metadata": {
      "needs_background": "light"
     },
     "output_type": "display_data"
    }
   ],
   "source": [
    "print(\"loading ... my_own_picture/2828_my_own_4.pnge\")\n",
    "\n",
    "img_array = imageio.imread('C:/my_own_picture/2828_my_own_4.png', as_gray = True)\n",
    "\n",
    "img_data = 255.0 - img_array.reshape(784)\n",
    "img_data = (img_data / 255.0 * 0.99) + 0.01\n",
    "\n",
    "print(\"min=\", numpy.min(img_data))\n",
    "print(\"max=\", numpy.max(img_data))\n",
    "\n",
    "matplotlib.pyplot.imshow(img_data.reshape(28, 28), cmap='Greys', interpolation='None')\n",
    "outputs = n.query(img_data)\n",
    "\n",
    "print(outputs)\n",
    "label = numpy.argmax(outputs)\n",
    "print(\"network says \", label)"
   ]
  },
  {
   "cell_type": "code",
   "execution_count": 70,
   "id": "f2fae86d",
   "metadata": {},
   "outputs": [
    {
     "name": "stdout",
     "output_type": "stream",
     "text": [
      "loading ... my_own_picture/2828_my_own_5.pnge\n",
      "min= 0.01\n",
      "max= 1.0\n",
      "[[6.57767360e-05]\n",
      " [1.29740767e-04]\n",
      " [8.21497772e-05]\n",
      " [6.75745983e-05]\n",
      " [1.10392509e-04]\n",
      " [9.97518497e-01]\n",
      " [1.40163209e-04]\n",
      " [6.17712374e-04]\n",
      " [5.26442159e-06]\n",
      " [9.74524201e-03]]\n",
      "network says  5\n"
     ]
    },
    {
     "data": {
      "image/png": "[encoded data removed]",
      "text/plain": [
       "<Figure size 432x288 with 1 Axes>"
      ]
     },
     "metadata": {
      "needs_background": "light"
     },
     "output_type": "display_data"
    }
   ],
   "source": [
    "print(\"loading ... my_own_picture/2828_my_own_5.pnge\")\n",
    "\n",
    "img_array = imageio.imread('C:/my_own_picture/2828_my_own_5.png', as_gray = True)\n",
    "\n",
    "img_data = 255.0 - img_array.reshape(784)\n",
    "img_data = (img_data / 255.0 * 0.99) + 0.01\n",
    "\n",
    "print(\"min=\", numpy.min(img_data))\n",
    "print(\"max=\", numpy.max(img_data))\n",
    "\n",
    "matplotlib.pyplot.imshow(img_data.reshape(28, 28), cmap='Greys', interpolation='None')\n",
    "outputs = n.query(img_data)\n",
    "\n",
    "print(outputs)\n",
    "label = numpy.argmax(outputs)\n",
    "print(\"network says \", label)"
   ]
  },
  {
   "cell_type": "code",
   "execution_count": 71,
   "id": "c7915fb4",
   "metadata": {},
   "outputs": [
    {
     "name": "stdout",
     "output_type": "stream",
     "text": [
      "loading ... my_own_picture/2828_my_own_6.pnge\n",
      "min= 0.01\n",
      "max= 1.0\n",
      "[[0.0559792 ]\n",
      " [0.05221332]\n",
      " [0.07281263]\n",
      " [0.11036094]\n",
      " [0.07790186]\n",
      " [0.03630401]\n",
      " [0.23575049]\n",
      " [0.2125687 ]\n",
      " [0.14300326]\n",
      " [0.18692607]]\n",
      "network says  6\n"
     ]
    },
    {
     "data": {
      "image/png": "[encoded data removed]",
      "text/plain": [
       "<Figure size 432x288 with 1 Axes>"
      ]
     },
     "metadata": {
      "needs_background": "light"
     },
     "output_type": "display_data"
    }
   ],
   "source": [
    "print(\"loading ... my_own_picture/2828_my_own_6.pnge\")\n",
    "\n",
    "img_array = imageio.imread('C:/my_own_picture/2828_my_own_6.png', as_gray = True)\n",
    "\n",
    "img_data = 255.0 - img_array.reshape(784)\n",
    "img_data = (img_data / 255.0 * 0.99) + 0.01\n",
    "\n",
    "print(\"min=\", numpy.min(img_data))\n",
    "print(\"max=\", numpy.max(img_data))\n",
    "\n",
    "matplotlib.pyplot.imshow(img_data.reshape(28, 28), cmap='Greys', interpolation='None')\n",
    "outputs = n.query(img_data)\n",
    "\n",
    "print(outputs)\n",
    "label = numpy.argmax(outputs)\n",
    "print(\"network says \", label)"
   ]
  },
  {
   "cell_type": "code",
   "execution_count": 72,
   "id": "54ea5c57",
   "metadata": {},
   "outputs": [
    {
     "name": "stdout",
     "output_type": "stream",
     "text": [
      "loading ... my_own_picture/2828_my_own_7.pnge\n",
      "min= 0.01\n",
      "max= 1.0\n",
      "[[3.73283087e-03]\n",
      " [1.24625433e-01]\n",
      " [7.24294468e-02]\n",
      " [1.20478147e-03]\n",
      " [9.28275017e-03]\n",
      " [7.98248832e-04]\n",
      " [8.32528531e-04]\n",
      " [8.44557107e-01]\n",
      " [9.54916855e-03]\n",
      " [3.07472474e-03]]\n",
      "network says  7\n"
     ]
    },
    {
     "data": {
      "image/png": "[encoded data removed]",
      "text/plain": [
       "<Figure size 432x288 with 1 Axes>"
      ]
     },
     "metadata": {
      "needs_background": "light"
     },
     "output_type": "display_data"
    }
   ],
   "source": [
    "print(\"loading ... my_own_picture/2828_my_own_7.pnge\")\n",
    "\n",
    "img_array = imageio.imread('C:/my_own_picture/2828_my_own_7.png', as_gray = True)\n",
    "\n",
    "img_data = 255.0 - img_array.reshape(784)\n",
    "img_data = (img_data / 255.0 * 0.99) + 0.01\n",
    "\n",
    "print(\"min=\", numpy.min(img_data))\n",
    "print(\"max=\", numpy.max(img_data))\n",
    "\n",
    "matplotlib.pyplot.imshow(img_data.reshape(28, 28), cmap='Greys', interpolation='None')\n",
    "outputs = n.query(img_data)\n",
    "\n",
    "print(outputs)\n",
    "label = numpy.argmax(outputs)\n",
    "print(\"network says \", label)"
   ]
  },
  {
   "cell_type": "code",
   "execution_count": 73,
   "id": "c507a185",
   "metadata": {},
   "outputs": [
    {
     "name": "stdout",
     "output_type": "stream",
     "text": [
      "loading ... my_own_picture/2828_my_own_8.pnge\n",
      "min= 0.01\n",
      "max= 1.0\n",
      "[[0.15490794]\n",
      " [0.06474695]\n",
      " [0.1436558 ]\n",
      " [0.20012052]\n",
      " [0.08835955]\n",
      " [0.03297032]\n",
      " [0.10063837]\n",
      " [0.15118424]\n",
      " [0.22538854]\n",
      " [0.15079769]]\n",
      "network says  8\n"
     ]
    },
    {
     "data": {
      "image/png": "[encoded data removed]",
      "text/plain": [
       "<Figure size 432x288 with 1 Axes>"
      ]
     },
     "metadata": {
      "needs_background": "light"
     },
     "output_type": "display_data"
    }
   ],
   "source": [
    "print(\"loading ... my_own_picture/2828_my_own_8.pnge\")\n",
    "\n",
    "img_array = imageio.imread('C:/my_own_picture/2828_my_own_8.png', as_gray = True)\n",
    "\n",
    "img_data = 255.0 - img_array.reshape(784)\n",
    "img_data = (img_data / 255.0 * 0.99) + 0.01\n",
    "\n",
    "print(\"min=\", numpy.min(img_data))\n",
    "print(\"max=\", numpy.max(img_data))\n",
    "\n",
    "matplotlib.pyplot.imshow(img_data.reshape(28, 28), cmap='Greys', interpolation='None')\n",
    "outputs = n.query(img_data)\n",
    "\n",
    "print(outputs)\n",
    "label = numpy.argmax(outputs)\n",
    "print(\"network says \", label)"
   ]
  },
  {
   "cell_type": "code",
   "execution_count": 74,
   "id": "cd24d8fd",
   "metadata": {},
   "outputs": [
    {
     "name": "stdout",
     "output_type": "stream",
     "text": [
      "loading ... my_own_picture/2828_my_own_9.pnge\n",
      "min= 0.01\n",
      "max= 1.0\n",
      "[[0.03734309]\n",
      " [0.0471761 ]\n",
      " [0.01790454]\n",
      " [0.15246158]\n",
      " [0.01658399]\n",
      " [0.06408543]\n",
      " [0.17748288]\n",
      " [0.18649457]\n",
      " [0.01361116]\n",
      " [0.27567567]]\n",
      "network says  9\n"
     ]
    },
    {
     "data": {
      "image/png": "[encoded data removed]",
      "text/plain": [
       "<Figure size 432x288 with 1 Axes>"
      ]
     },
     "metadata": {
      "needs_background": "light"
     },
     "output_type": "display_data"
    }
   ],
   "source": [
    "print(\"loading ... my_own_picture/2828_my_own_9.pnge\")\n",
    "\n",
    "img_array = imageio.imread('C:/my_own_picture/2828_my_own_9.png', as_gray = True)\n",
    "\n",
    "img_data = 255.0 - img_array.reshape(784)\n",
    "img_data = (img_data / 255.0 * 0.99) + 0.01\n",
    "\n",
    "print(\"min=\", numpy.min(img_data))\n",
    "print(\"max=\", numpy.max(img_data))\n",
    "\n",
    "matplotlib.pyplot.imshow(img_data.reshape(28, 28), cmap='Greys', interpolation='None')\n",
    "outputs = n.query(img_data)\n",
    "\n",
    "print(outputs)\n",
    "label = numpy.argmax(outputs)\n",
    "print(\"network says \", label)"
   ]
  },
  {
   "cell_type": "code",
   "execution_count": null,
   "id": "43196b89",
   "metadata": {},
   "outputs": [],
   "source": []
  }
 ],
 "metadata": {
  "kernelspec": {
   "display_name": "Python 3 (ipykernel)",
   "language": "python",
   "name": "python3"
  },
  "language_info": {
   "codemirror_mode": {
    "name": "ipython",
    "version": 3
   },
   "file_extension": ".py",
   "mimetype": "text/x-python",
   "name": "python",
   "nbconvert_exporter": "python",
   "pygments_lexer": "ipython3",
   "version": "3.9.7"
  }
 },
 "nbformat": 4,
 "nbformat_minor": 5
}
